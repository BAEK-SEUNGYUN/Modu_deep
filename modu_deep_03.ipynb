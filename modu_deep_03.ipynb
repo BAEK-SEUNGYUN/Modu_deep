{
  "nbformat": 4,
  "nbformat_minor": 0,
  "metadata": {
    "colab": {
      "name": "modu_deep_03.ipynb",
      "provenance": [],
      "collapsed_sections": [],
      "authorship_tag": "ABX9TyMYLvjuIA5zc7ybkE6fpWOo",
      "include_colab_link": true
    },
    "kernelspec": {
      "name": "python3",
      "display_name": "Python 3"
    },
    "language_info": {
      "name": "python"
    }
  },
  "cells": [
    {
      "cell_type": "markdown",
      "metadata": {
        "id": "view-in-github",
        "colab_type": "text"
      },
      "source": [
        "<a href=\"https://colab.research.google.com/github/BAEK-SEUNGYUN/modu_deep/blob/main/modu_deep_03.ipynb\" target=\"_parent\"><img src=\"https://colab.research.google.com/assets/colab-badge.svg\" alt=\"Open In Colab\"/></a>"
      ]
    },
    {
      "cell_type": "markdown",
      "metadata": {
        "id": "y7EkAGm3XZGJ"
      },
      "source": [
        "# 선형회귀\n",
        "딥러닝을 이해하려면 딥러닝의 가장 말단에서 이루어지는 가장 기본적인 두 가지 계산 원리를 알야한다.\n",
        "\n",
        "선형회귀와 로지스틱 회귀이다."
      ]
    },
    {
      "cell_type": "markdown",
      "metadata": {
        "id": "JH_ANWezXseg"
      },
      "source": [
        "## 선형회귀\n",
        "\n",
        "x 값이 변함에 따라 y 값도 변한다.\n",
        "\n",
        "x - 독립적으로 변할 수 있는 값, 독립변수\n",
        "\n",
        "y - 독립변수에 따라 종속적으로 변하는 값, 종속변수\n",
        "\n",
        "x 의 값이 여러개인 경우는 다중 선형회귀라고 함\n"
      ]
    },
    {
      "cell_type": "code",
      "metadata": {
        "id": "iCrqITHZXSdL"
      },
      "source": [
        "import numpy as np\n",
        "\n",
        "x = [2,4,6,8]         # 공부한 시간\n",
        "y = [81,93,91,97]     # 점수"
      ],
      "execution_count": 2,
      "outputs": []
    },
    {
      "cell_type": "markdown",
      "metadata": {
        "id": "ZYJoElCgZL_x"
      },
      "source": [
        "## 최소제곱법\n",
        "\n",
        "최소제곱법을 통해서 일차 함수의 기울기 a 와 y절편 b 를 바로 구할 수 있다.\n"
      ]
    },
    {
      "cell_type": "code",
      "metadata": {
        "colab": {
          "base_uri": "https://localhost:8080/"
        },
        "id": "a29gn4HfY8hY",
        "outputId": "a920274d-a8ca-41db-f09a-84a71b57ea68"
      },
      "source": [
        "# 최소 제곱근 공식으로 기울기 a 와 y절편 b 의 값을 구해보자\n",
        "mx = np.mean(x)\n",
        "my = np.mean(y)\n",
        "\n",
        "print(mx, my)"
      ],
      "execution_count": 3,
      "outputs": [
        {
          "output_type": "stream",
          "text": [
            "5.0 90.5\n"
          ],
          "name": "stdout"
        }
      ]
    },
    {
      "cell_type": "code",
      "metadata": {
        "colab": {
          "base_uri": "https://localhost:8080/"
        },
        "id": "FHyPxcPtZLQl",
        "outputId": "1e5de3e6-6346-452d-d8af-2b05b34f5172"
      },
      "source": [
        "# 최소 제곱근 공식의 분모의 값\n",
        "# ( x - x 평균 ) ** 2 의 합\n",
        "\n",
        "divisor = sum([(i - mx) ** 2 for i in x])\n",
        "print(divisor)"
      ],
      "execution_count": 4,
      "outputs": [
        {
          "output_type": "stream",
          "text": [
            "20.0\n"
          ],
          "name": "stdout"
        }
      ]
    },
    {
      "cell_type": "code",
      "metadata": {
        "colab": {
          "base_uri": "https://localhost:8080/"
        },
        "id": "ELq6s_U4bn_o",
        "outputId": "4b27cdda-9151-4da1-8928-a4c72e3c2e00"
      },
      "source": [
        "# 분자의 값\n",
        "# x 와 y 의 편차를 곱해서 합한 값을 구한다.\n",
        "\n",
        "def top(x, mx, y, my):\n",
        "  d = 0\n",
        "  for i in range(len(x)):\n",
        "    d += (x[i] - mx) * (y[i] - my)\n",
        "  return d\n",
        "\n",
        "dividend = top(x,mx,y,my)\n",
        "\n",
        "print(diviend)"
      ],
      "execution_count": 7,
      "outputs": [
        {
          "output_type": "stream",
          "text": [
            "46.0\n"
          ],
          "name": "stdout"
        }
      ]
    },
    {
      "cell_type": "code",
      "metadata": {
        "colab": {
          "base_uri": "https://localhost:8080/"
        },
        "id": "jl7lsCNzqnM8",
        "outputId": "ef72f292-9f04-4b0d-99e5-50629f2394b5"
      },
      "source": [
        "# 분모와 분자를 계산하여 기울기  a 를 구한다.\n",
        "\n",
        "a = dividend / divisor\n",
        "print(a)"
      ],
      "execution_count": 9,
      "outputs": [
        {
          "output_type": "stream",
          "text": [
            "2.3\n"
          ],
          "name": "stdout"
        }
      ]
    },
    {
      "cell_type": "code",
      "metadata": {
        "colab": {
          "base_uri": "https://localhost:8080/"
        },
        "id": "a4usuS_Ibfrr",
        "outputId": "c8d64b9b-c23f-458f-ac06-efe4e1268667"
      },
      "source": [
        "# 기울기 a  를 구하고 나면 \n",
        "# y절편을 구하는 공식을 이용해 b 를 구할 수 있습니다.\n",
        "\n",
        "b = my - (mx * a)\n",
        "print(b)"
      ],
      "execution_count": 11,
      "outputs": [
        {
          "output_type": "stream",
          "text": [
            "79.0\n"
          ],
          "name": "stdout"
        }
      ]
    },
    {
      "cell_type": "code",
      "metadata": {
        "colab": {
          "base_uri": "https://localhost:8080/"
        },
        "id": "s10N2UVHcEbH",
        "outputId": "132db28c-db67-4d63-bd31-7175cc05b86b"
      },
      "source": [
        "print(\"x 의 평균 : \", mx)\n",
        "print(\"y 의 평균 : \", my)\n",
        "print(\"분모 : \", divisor)\n",
        "print(\"분자 : \", dividend)\n",
        "print(\"기울기 a : \", a)\n",
        "print(\"y 절편 : \", b)"
      ],
      "execution_count": 12,
      "outputs": [
        {
          "output_type": "stream",
          "text": [
            "x 의 평균 :  5.0\n",
            "y 의 평균 :  90.5\n",
            "분모 :  20.0\n",
            "분자 :  46.0\n",
            "기울기 a :  2.3\n",
            "y 절편 :  79.0\n"
          ],
          "name": "stdout"
        }
      ]
    },
    {
      "cell_type": "markdown",
      "metadata": {
        "id": "qBJWIFp2i41D"
      },
      "source": [
        "## 평균 제곱 오차\n",
        "\n",
        "딥러닝은 대부분 입력 값이 여러 개인 상황에서 이를 해결하기 위해 실행된다. 따라서 복잡한 연산 과정이 따를 수밖에 없다.\n",
        "\n",
        "이렇게 여러 개의 입력 값을 게산할 때는 임의의 선을 그리고 난 후, 이선이 얼마나 잘 그려졌는지를 평가하여 조금씩 수정해 가는 방법을 사용한다.\n",
        "\n",
        "이를 위해 주어진 선의 오차를 평가하는 오차 평가 알고리즘이 필요하다.\n",
        "\n",
        "오차를 평가하는 방법 중 가장 많이 사용되는 **평균 제곱 오차** 를 배워보자\n",
        "\n",
        "\n",
        "\n"
      ]
    },
    {
      "cell_type": "code",
      "metadata": {
        "id": "q9fVQ0mzfQDk"
      },
      "source": [
        "# 평균 제곱 오차\n",
        "# 임의로 종한 기울기 a 와 y절편 b 의 값을 3, 76이라 하고\n",
        "# fake_a_b 라는 리스트를 만들어 값을 지정한다.\n",
        "\n",
        "fake_a_b = [3,76]"
      ],
      "execution_count": 13,
      "outputs": []
    },
    {
      "cell_type": "code",
      "metadata": {
        "colab": {
          "base_uri": "https://localhost:8080/"
        },
        "id": "L0kxxSEhrXD6",
        "outputId": "5cab69b3-902a-4356-ce5b-21f29d4ed4a8"
      },
      "source": [
        "# 공부한 시간과 성적 데이터\n",
        "data = [[2,81],[4,93],[6,91],[8,97]]\n",
        "\n",
        "print(data)\n",
        "\n",
        "# x -> 공부한 시간, y -> 성적데이터\n",
        "x = [i[0] for i in data]\n",
        "y = [i[1] for i in data]\n",
        "\n",
        "print(x)\n",
        "print(y)"
      ],
      "execution_count": 15,
      "outputs": [
        {
          "output_type": "stream",
          "text": [
            "[[2, 81], [4, 93], [6, 91], [8, 97]]\n",
            "[2, 4, 6, 8]\n",
            "[81, 93, 91, 97]\n"
          ],
          "name": "stdout"
        }
      ]
    },
    {
      "cell_type": "code",
      "metadata": {
        "id": "uyK2IF65rm2t"
      },
      "source": [
        "# predict 함수를 사용해 일차 방정식을 구현\n",
        "\n",
        "def predict(x):\n",
        "  return fake_a_b[0]*x + fake_a_b[1]"
      ],
      "execution_count": 16,
      "outputs": []
    },
    {
      "cell_type": "code",
      "metadata": {
        "id": "47yTzLgLsBpn"
      },
      "source": [
        "# 평균 제곱 오차 공식을 파이썬 함수로 옮기기\n",
        "\n",
        "def mse(y, y_hat):\n",
        "  return ((y-y_hat) ** 2).mean()\n"
      ],
      "execution_count": 28,
      "outputs": []
    },
    {
      "cell_type": "code",
      "metadata": {
        "id": "2daEmIuEsZRd"
      },
      "source": [
        "# mse() 함수에 데이터를 대입하여 최종값을 구하는 함수\n",
        "\n",
        "def mse_val(y, predict_result):\n",
        "  return mse(np.array(y), np.array(predict_result))"
      ],
      "execution_count": 24,
      "outputs": []
    },
    {
      "cell_type": "code",
      "metadata": {
        "colab": {
          "base_uri": "https://localhost:8080/"
        },
        "id": "tk625JP4srVm",
        "outputId": "4d2222a7-a2f0-4bca-bef2-547e60e48041"
      },
      "source": [
        "# 예측 값이 들어갈 빈 리스트\n",
        "predict_result = []\n",
        "\n",
        "# 모든 x 값을 한 번씩 대입하여\n",
        "for i in range(len(x)):\n",
        "  # 그 결과에 해당하는 predict_result 리스트를 완성\n",
        "  predict_result.append(predict(x[i]))\n",
        "  print(f\"공부시간 = {x[i]}, 실제 점수 = {y[i]}, 예측 점수 = {predict(x[i])}\")"
      ],
      "execution_count": 25,
      "outputs": [
        {
          "output_type": "stream",
          "text": [
            "공부시간 = 2, 실제 점수 = 81, 예측 점수 = 82\n",
            "공부시간 = 4, 실제 점수 = 93, 예측 점수 = 88\n",
            "공부시간 = 6, 실제 점수 = 91, 예측 점수 = 94\n",
            "공부시간 = 8, 실제 점수 = 97, 예측 점수 = 100\n"
          ],
          "name": "stdout"
        }
      ]
    },
    {
      "cell_type": "code",
      "metadata": {
        "colab": {
          "base_uri": "https://localhost:8080/"
        },
        "id": "Aa3aCLLvtOBA",
        "outputId": "9205a66e-26ed-4a2f-ed50-0c4735ed395e"
      },
      "source": [
        "# 최종 MSE 출력\n",
        "print(\"mse 최종값 : \", str(mse_val(predict_result,y)))"
      ],
      "execution_count": 26,
      "outputs": [
        {
          "output_type": "stream",
          "text": [
            "mse 최종값 :  11.0\n"
          ],
          "name": "stdout"
        }
      ]
    },
    {
      "cell_type": "markdown",
      "metadata": {
        "id": "FcJ7U3Edu0Dy"
      },
      "source": [
        "a = 3, b = 76\n",
        "\n",
        "y = 3x + 76 은 오차가 약 11.0 이라는 것을 알게 되었다.\n",
        "\n",
        "이제 이 오차를 줄이면서 새로운 선을 그어야 한다.\n",
        "\n",
        "a 와 b 의 값을 적절히 조절하면서 오차의 변화를 살피고, 오차가 최소화되는 a와 b 를 구해야한다.\n",
        "\n",
        "오차를 줄이는 방법 **\" 경사 하강법 \"** 을 다음에 알아보자"
      ]
    },
    {
      "cell_type": "code",
      "metadata": {
        "id": "fITt7OGCt3Ua"
      },
      "source": [
        ""
      ],
      "execution_count": null,
      "outputs": []
    }
  ]
}