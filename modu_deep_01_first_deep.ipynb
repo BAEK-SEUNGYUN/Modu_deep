{
  "nbformat": 4,
  "nbformat_minor": 0,
  "metadata": {
    "colab": {
      "name": "modu_deep_01_first_deep.ipynb",
      "provenance": [],
      "collapsed_sections": [],
      "mount_file_id": "1_J6FP0eSlxgPKpA-Qpaq3NMPxkfTCcd0",
      "authorship_tag": "ABX9TyPq9ijAbvOULQiEYADjc3fW",
      "include_colab_link": true
    },
    "kernelspec": {
      "name": "python3",
      "display_name": "Python 3"
    },
    "language_info": {
      "name": "python"
    }
  },
  "cells": [
    {
      "cell_type": "markdown",
      "metadata": {
        "id": "view-in-github",
        "colab_type": "text"
      },
      "source": [
        "<a href=\"https://colab.research.google.com/github/BAEK-SEUNGYUN/modu_deep/blob/main/modu_deep_01_first_deep.ipynb\" target=\"_parent\"><img src=\"https://colab.research.google.com/assets/colab-badge.svg\" alt=\"Open In Colab\"/></a>"
      ]
    },
    {
      "cell_type": "code",
      "metadata": {
        "id": "YnynfKzGyofJ"
      },
      "source": [
        ""
      ],
      "execution_count": null,
      "outputs": []
    },
    {
      "cell_type": "code",
      "metadata": {
        "id": "CEufg2VPdFPo"
      },
      "source": [
        "# 딥러닝을 구동하는 데 필요한 케라스 함수 호출\n",
        "from tensorflow.keras.models import Sequential\n",
        "from tensorflow.keras.layers import Dense"
      ],
      "execution_count": null,
      "outputs": []
    },
    {
      "cell_type": "code",
      "metadata": {
        "id": "tS0wRNGKd7YA"
      },
      "source": [
        "# 필요한 라이브러리 불러오기\n",
        "\n",
        "import numpy as np\n",
        "import tensorflow as tf"
      ],
      "execution_count": null,
      "outputs": []
    },
    {
      "cell_type": "code",
      "metadata": {
        "id": "g2VhLx6meUJn"
      },
      "source": [
        "# 실행할 때마다 같은 결과를 출력하기 위해 설정하는 부분\n",
        "\n",
        "np.random.seed(3)\n",
        "tf.random.set_seed(3)"
      ],
      "execution_count": null,
      "outputs": []
    },
    {
      "cell_type": "code",
      "metadata": {
        "id": "JQcvRldaes4l"
      },
      "source": [
        "# 데이터를 구글 드라이브에 업로드 한 뒤에\n",
        "# 마운트를 해서 경로를 가져 올 수 있다."
      ],
      "execution_count": null,
      "outputs": []
    },
    {
      "cell_type": "code",
      "metadata": {
        "id": "vf2g7TG3edIx"
      },
      "source": [
        "# 준비된 수술 환자 데이터를 불러오기\n",
        "\n",
        "Data_set = np.loadtxt(\"/content/drive/MyDrive/dataset/ThoraricSurgery.csv\", delimiter=\",\")"
      ],
      "execution_count": null,
      "outputs": []
    },
    {
      "cell_type": "code",
      "metadata": {
        "colab": {
          "base_uri": "https://localhost:8080/"
        },
        "id": "ruP8c_DWfrsU",
        "outputId": "96c95403-ab71-4efa-ad9b-2fdca6d8faf4"
      },
      "source": [
        "print(Data_set)"
      ],
      "execution_count": null,
      "outputs": [
        {
          "output_type": "stream",
          "text": [
            "[[293.     1.     3.8  ...   0.    62.     0.  ]\n",
            " [  1.     2.     2.88 ...   0.    60.     0.  ]\n",
            " [  8.     2.     3.19 ...   0.    66.     1.  ]\n",
            " ...\n",
            " [406.     6.     5.36 ...   0.    62.     0.  ]\n",
            " [ 25.     8.     4.32 ...   0.    58.     1.  ]\n",
            " [447.     8.     5.2  ...   0.    49.     0.  ]]\n"
          ],
          "name": "stdout"
        }
      ]
    },
    {
      "cell_type": "code",
      "metadata": {
        "id": "lpwxEU30fjF9"
      },
      "source": [
        "# 환자의 기록과 수술 결과를 X와 Y로 구분하여 저장\n",
        "\n",
        "X = Data_set[:, 0:17]   # 환자의 기록 ( 종양의 유형, 폐활량, 호흡 곤란 여부, 고통 정토, 기침, 흡연 .... 등)\n",
        "Y = Data_set[:, 17]     # 환자의 결과( 사망 여부  0 : 사망, 1 : 생존)"
      ],
      "execution_count": null,
      "outputs": []
    },
    {
      "cell_type": "code",
      "metadata": {
        "id": "8yGzOEoKgt6D"
      },
      "source": [
        "# 딥러닝 구조를 결정 (모델을 설정하고 실행)\n",
        "\n",
        "model = Sequential()\n",
        "model.add(Dense(30, input_dim = 17, activation='relu'))\n",
        "model.add(Dense(1, activation='sigmoid'))"
      ],
      "execution_count": null,
      "outputs": []
    },
    {
      "cell_type": "markdown",
      "metadata": {
        "id": "k4vqqCaHl_jq"
      },
      "source": [
        "케라스 라이브러리 중에서 Sequential() 함수와 Dense()함수를 불러왔다.\n",
        "딥러닝은 여러 층이 쌓여서 결과를 만들어 내는데 Sequential() 함수는 딥러닝의 구조를 한 층 한 층 쉽게 쌓아 올릴 수 있게 한다.\n",
        "\n",
        "\n",
        " model.add() 함수를 사용해 두 개의 층을 쌓아 올렸다.\n",
        "\n",
        " Dense() 함수는 각 층이 제각각 어떤 특성을 가질지 옵션을 설정하는 역할"
      ]
    },
    {
      "cell_type": "code",
      "metadata": {
        "id": "7iU74voihy24"
      },
      "source": [
        "# 딥러닝 실행\n",
        "\n",
        "model.compile(loss='binary_crossentropy', optimizer = 'adam', metrics=['accuracy'])\n",
        "model.fit(X,Y, epochs = 100, batch_size=10)"
      ],
      "execution_count": null,
      "outputs": []
    },
    {
      "cell_type": "markdown",
      "metadata": {
        "id": "WUuv-uTpm1RE"
      },
      "source": [
        "compile 함수로 딥러닝을 실행\n",
        "\n",
        "activation : 다음 층으로 어떻게 값을 넘길지 결정하는 부분( relu, sigmoid 가 제일 많이 쓰인다.)\n",
        "\n",
        "loss : 한 번 신경망이 실행될 때마다 오차 값을 추적하는 함수\n",
        "\n",
        "optimizer : 오차를 어떻게 줄여 나갈지 정하는 함수\n"
      ]
    },
    {
      "cell_type": "markdown",
      "metadata": {
        "id": "fKJCYWbemc-T"
      },
      "source": [
        ""
      ]
    },
    {
      "cell_type": "code",
      "metadata": {
        "id": "qy1rT0n7kuiq"
      },
      "source": [
        "'''\n",
        "loss(손실 값) : 예측에서 빗나간 정도\n",
        "accuracy(정확도) : 예측이 성공할 확율 0.8638 -> 86.38% 의 예측 성공률\n",
        "'''"
      ],
      "execution_count": null,
      "outputs": []
    }
  ]
}