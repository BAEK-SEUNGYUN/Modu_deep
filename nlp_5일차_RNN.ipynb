{
  "nbformat": 4,
  "nbformat_minor": 0,
  "metadata": {
    "colab": {
      "name": "nlp_5일차_RNN.ipynb",
      "provenance": [],
      "collapsed_sections": [],
      "mount_file_id": "11Dw36Yn2EDqShH-ficOCpg3ScpUsY7pn",
      "authorship_tag": "ABX9TyMOyJ43NY0bXacT3u7zlRRz",
      "include_colab_link": true
    },
    "kernelspec": {
      "name": "python3",
      "display_name": "Python 3"
    },
    "language_info": {
      "name": "python"
    }
  },
  "cells": [
    {
      "cell_type": "markdown",
      "metadata": {
        "id": "view-in-github",
        "colab_type": "text"
      },
      "source": [
        "<a href=\"https://colab.research.google.com/github/BAEK-SEUNGYUN/modu_deep/blob/main/nlp_5%EC%9D%BC%EC%B0%A8_RNN.ipynb\" target=\"_parent\"><img src=\"https://colab.research.google.com/assets/colab-badge.svg\" alt=\"Open In Colab\"/></a>"
      ]
    },
    {
      "cell_type": "markdown",
      "metadata": {
        "id": "NgxAeXmJakGX"
      },
      "source": [
        "RNN = 시퀀스 모델, 순서가 있는 나열\n",
        "\n",
        "시퀀스 벡터 - 이러한 순서를 보존하여 벡터공간에 저장\n",
        "\n",
        "과거의 시퀀스를 현재에 반영하는게 RNN의 특징\n",
        "\n",
        "RNN은 입력값과 출력값이 자유롭다  일대다, 다대일, 다대다\n",
        "\n",
        "-일대다 - 입력은 하난데 출력은 여러개 예)이미지 캡셔닝 -> 인풋으로 그림, 아웃풋으로 캡션\n",
        "\n",
        "-다대일 - 예) 스팸메일 \n",
        "\n",
        "-다대다 - 입력문장으로부터 대답 문장을 출력 예) 챗봇, 번역기, 개체명인식기, 품사태깅 등..\n",
        "\n"
      ]
    },
    {
      "cell_type": "markdown",
      "metadata": {
        "id": "z92vBAvSdpHj"
      },
      "source": [
        "## keras 로 RNN 구현하기"
      ]
    },
    {
      "cell_type": "code",
      "metadata": {
        "id": "hVz1Bup3dwUb"
      },
      "source": [
        "from keras.models import Sequential\n",
        "from keras.layers import SimpleRNN"
      ],
      "execution_count": 9,
      "outputs": []
    },
    {
      "cell_type": "code",
      "metadata": {
        "colab": {
          "base_uri": "https://localhost:8080/"
        },
        "id": "1lqaPz43d2fI",
        "outputId": "dad705eb-7cff-47b6-ee0c-1fd80637c132"
      },
      "source": [
        "model = Sequential()\n",
        "model.add(SimpleRNN(3, input_shape=(2,10)))\n",
        "model.summary()"
      ],
      "execution_count": 10,
      "outputs": [
        {
          "output_type": "stream",
          "text": [
            "Model: \"sequential_3\"\n",
            "_________________________________________________________________\n",
            "Layer (type)                 Output Shape              Param #   \n",
            "=================================================================\n",
            "simple_rnn_1 (SimpleRNN)     (None, 3)                 42        \n",
            "=================================================================\n",
            "Total params: 42\n",
            "Trainable params: 42\n",
            "Non-trainable params: 0\n",
            "_________________________________________________________________\n"
          ],
          "name": "stdout"
        }
      ]
    },
    {
      "cell_type": "code",
      "metadata": {
        "colab": {
          "base_uri": "https://localhost:8080/"
        },
        "id": "rVVoYiSYeMhp",
        "outputId": "8b22a4a1-7396-4685-eaf9-d8ecf3525754"
      },
      "source": [
        "model = Sequential()\n",
        "model.add(SimpleRNN(3, batch_input_shape=(8,2,10)))\n",
        "model.summary()"
      ],
      "execution_count": 12,
      "outputs": [
        {
          "output_type": "stream",
          "text": [
            "Model: \"sequential_5\"\n",
            "_________________________________________________________________\n",
            "Layer (type)                 Output Shape              Param #   \n",
            "=================================================================\n",
            "simple_rnn_3 (SimpleRNN)     (8, 3)                    42        \n",
            "=================================================================\n",
            "Total params: 42\n",
            "Trainable params: 42\n",
            "Non-trainable params: 0\n",
            "_________________________________________________________________\n"
          ],
          "name": "stdout"
        }
      ]
    },
    {
      "cell_type": "code",
      "metadata": {
        "colab": {
          "base_uri": "https://localhost:8080/"
        },
        "id": "rJRYftZ9eyLi",
        "outputId": "b7b15485-8e24-4804-c448-09f27757137f"
      },
      "source": [
        "model = Sequential()\n",
        "model.add(SimpleRNN(3, batch_input_shape=(8,2,10), return_sequences=True))\n",
        "model.summary()"
      ],
      "execution_count": 14,
      "outputs": [
        {
          "output_type": "stream",
          "text": [
            "Model: \"sequential_7\"\n",
            "_________________________________________________________________\n",
            "Layer (type)                 Output Shape              Param #   \n",
            "=================================================================\n",
            "simple_rnn_4 (SimpleRNN)     (8, 2, 3)                 42        \n",
            "=================================================================\n",
            "Total params: 42\n",
            "Trainable params: 42\n",
            "Non-trainable params: 0\n",
            "_________________________________________________________________\n"
          ],
          "name": "stdout"
        }
      ]
    },
    {
      "cell_type": "markdown",
      "metadata": {
        "id": "rn1rm2hje9Br"
      },
      "source": [
        "## 파이썬으로 RNN 구현하기\n",
        "\n",
        "$$ h_t = tanh(W_x X_t + W_h H_{t-1} + b)$$\n",
        "\n"
      ]
    },
    {
      "cell_type": "markdown",
      "metadata": {
        "id": "QnW28e83fSQS"
      },
      "source": [
        "```\n",
        "의사코드\n",
        "hidden_State_t = 0\n",
        "for input_t in input_length: #각 시점마다 입력을 받는다.\n",
        "    output_t = tanh(input_t, hidden_stat_t) #각 시점에 대해서 입력과 은닉 상태를 가지고 연산\n",
        "    hidden_stat_t = output_t # 계산결과는 현재 시점의 은닉 상태가 된다.\n",
        "```"
      ]
    },
    {
      "cell_type": "code",
      "metadata": {
        "id": "70gd4bJNfw87"
      },
      "source": [
        "import numpy as np\n",
        "timesteps = 10 # 시점의 수\n",
        "input_dim = 4\n",
        "hidden_size = 8 # 은닉 상태의 크기(메모리 셀의 용량?)\n",
        "\n",
        "inputs = np.random.random((timesteps, input_dim))\n",
        "\n",
        "hidden_state_t = np.zeros((hidden_size,)) # 초기 은닉 상태는 0(벡터)로 초기화\n",
        "# 은닉상태의 크기 hidden size로 은닉상태를 만듬"
      ],
      "execution_count": 18,
      "outputs": []
    },
    {
      "cell_type": "code",
      "metadata": {
        "colab": {
          "base_uri": "https://localhost:8080/"
        },
        "id": "tVml3Y3MgabY",
        "outputId": "44f3e235-21a4-44a5-99c6-85a807ca3c7b"
      },
      "source": [
        "print(hidden_state_t)"
      ],
      "execution_count": 19,
      "outputs": [
        {
          "output_type": "stream",
          "text": [
            "[0. 0. 0. 0. 0. 0. 0. 0.]\n"
          ],
          "name": "stdout"
        }
      ]
    },
    {
      "cell_type": "code",
      "metadata": {
        "id": "vMvbiqEagc0b"
      },
      "source": [
        "Wx = np.random.random((hidden_size, input_dim)) # (8,4) 입력에 대한 가중치\n",
        "Wh = np.random.random((hidden_size, hidden_size)) # (8,8) 은닉상태에 대한 가중치\n",
        "\n",
        "b = np.random.random((hidden_size)) # (8,) 편향"
      ],
      "execution_count": 23,
      "outputs": []
    },
    {
      "cell_type": "code",
      "metadata": {
        "colab": {
          "base_uri": "https://localhost:8080/"
        },
        "id": "R0ijZonMg8Qn",
        "outputId": "76a56695-9996-4885-dc0a-38ef0d657f6a"
      },
      "source": [
        "print(np.shape(Wx))   # 은닉상태의 크기 * 입력의 차원\n",
        "print(np.shape(Wh))   # 은닉상태의 크기 * 은닉상태의 크기\n",
        "print(np.shape(b))    # 은닉상태의 크기"
      ],
      "execution_count": 24,
      "outputs": [
        {
          "output_type": "stream",
          "text": [
            "(8, 4)\n",
            "(8, 8)\n",
            "(8,)\n"
          ],
          "name": "stdout"
        }
      ]
    },
    {
      "cell_type": "code",
      "metadata": {
        "colab": {
          "base_uri": "https://localhost:8080/"
        },
        "id": "wTPAUrcahLVM",
        "outputId": "cc0f4b48-0280-42ef-bb9b-328c49c13d31"
      },
      "source": [
        "total_hidden_state = []\n",
        "\n",
        "# 메모리 셀 동작\n",
        "for input_t in inputs:\n",
        "  output_t = np.tanh(np.dot(Wx,input_t) + np.dot(Wh,hidden_state_t)+b)\n",
        "  total_hidden_state.append(list(output_t))\n",
        "  print(np.shape(total_hidden_state))  # 각 시점의 t별 메모리 셀의 출력의 크기는 (timesteps, output_dim)\n",
        "\n",
        "total_hidden_state = np.stack(total_hidden_state, axis=0)\n",
        "print(total_hidden_state) # (timesteps , outputdim) 크기"
      ],
      "execution_count": 27,
      "outputs": [
        {
          "output_type": "stream",
          "text": [
            "(1, 8)\n",
            "(2, 8)\n",
            "(3, 8)\n",
            "(4, 8)\n",
            "(5, 8)\n",
            "(6, 8)\n",
            "(7, 8)\n",
            "(8, 8)\n",
            "(9, 8)\n",
            "(10, 8)\n",
            "[[0.92700366 0.95670152 0.96963411 0.97655459 0.76956391 0.96926539\n",
            "  0.94473721 0.9658133 ]\n",
            " [0.5901368  0.80276721 0.86178996 0.76433431 0.56101548 0.74974371\n",
            "  0.66574454 0.90714879]\n",
            " [0.69562057 0.85449149 0.91965205 0.87027505 0.48153884 0.89648321\n",
            "  0.73813562 0.92005441]\n",
            " [0.83786294 0.94409473 0.97071084 0.95261989 0.64212601 0.94949824\n",
            "  0.89151677 0.96670607]\n",
            " [0.90385439 0.9535068  0.96748255 0.9668038  0.78546825 0.94853533\n",
            "  0.9370608  0.96820556]\n",
            " [0.87863777 0.96760904 0.98003295 0.96777666 0.76042394 0.94895097\n",
            "  0.9339046  0.98144033]\n",
            " [0.84166508 0.90267923 0.96182226 0.93606186 0.6795842  0.93086575\n",
            "  0.90032063 0.93249438]\n",
            " [0.91331654 0.95960962 0.94239029 0.9619687  0.8715401  0.9010679\n",
            "  0.94091912 0.97563232]\n",
            " [0.91456036 0.95915091 0.97189065 0.97100579 0.81061824 0.95044745\n",
            "  0.94789797 0.97152319]\n",
            " [0.74736022 0.87223994 0.89604059 0.88935263 0.5410283  0.90208989\n",
            "  0.74950481 0.92879099]]\n"
          ],
          "name": "stdout"
        }
      ]
    },
    {
      "cell_type": "markdown",
      "metadata": {
        "id": "SihYdWf0hu-F"
      },
      "source": [
        "## 양방향 순환 신경망"
      ]
    },
    {
      "cell_type": "code",
      "metadata": {
        "id": "0tKn826Gn9xE"
      },
      "source": [
        "from tensorflow.keras.models import Sequential\n",
        "from tensorflow.keras.layers import SimpleRNN, Bidirectional\n",
        "\n",
        "model = Sequential()\n",
        "model.add(Bidirectional(SimpleRNN(hidden_size, return_sequences=True), input_shape=(timesteps, input_dim)))  # simple RNN"
      ],
      "execution_count": 42,
      "outputs": []
    },
    {
      "cell_type": "code",
      "metadata": {
        "colab": {
          "base_uri": "https://localhost:8080/"
        },
        "id": "YFedvwDzoXnv",
        "outputId": "5b240dce-58e3-4de8-c7a0-3e297b220969"
      },
      "source": [
        "model.summary()"
      ],
      "execution_count": 29,
      "outputs": [
        {
          "output_type": "stream",
          "text": [
            "Model: \"sequential\"\n",
            "_________________________________________________________________\n",
            "Layer (type)                 Output Shape              Param #   \n",
            "=================================================================\n",
            "bidirectional (Bidirectional (None, 10, 16)            208       \n",
            "=================================================================\n",
            "Total params: 208\n",
            "Trainable params: 208\n",
            "Non-trainable params: 0\n",
            "_________________________________________________________________\n"
          ],
          "name": "stdout"
        }
      ]
    },
    {
      "cell_type": "code",
      "metadata": {
        "id": "eoJupOsPoZSa"
      },
      "source": [
        "# 은닉층을 쌓아보자\n",
        "model = Sequential()\n",
        "model.add(Bidirectional(SimpleRNN(hidden_size, return_sequences = True), input_shape=(timesteps, input_dim)))\n",
        "model.add(Bidirectional(SimpleRNN(hidden_size, return_sequences=True)))\n",
        "model.add(Bidirectional(SimpleRNN(hidden_size, return_sequences=True)))\n",
        "model.add(Bidirectional(SimpleRNN(hidden_size, return_sequences=True)))"
      ],
      "execution_count": 34,
      "outputs": []
    },
    {
      "cell_type": "code",
      "metadata": {
        "colab": {
          "base_uri": "https://localhost:8080/"
        },
        "id": "BJyK2SCWozu5",
        "outputId": "c6411e80-1544-4220-b57e-358807a67f2a"
      },
      "source": [
        "model.summary()"
      ],
      "execution_count": 35,
      "outputs": [
        {
          "output_type": "stream",
          "text": [
            "Model: \"sequential_3\"\n",
            "_________________________________________________________________\n",
            "Layer (type)                 Output Shape              Param #   \n",
            "=================================================================\n",
            "bidirectional_9 (Bidirection (None, 10, 16)            208       \n",
            "_________________________________________________________________\n",
            "bidirectional_10 (Bidirectio (None, 10, 16)            400       \n",
            "_________________________________________________________________\n",
            "bidirectional_11 (Bidirectio (None, 10, 16)            400       \n",
            "_________________________________________________________________\n",
            "bidirectional_12 (Bidirectio (None, 10, 16)            400       \n",
            "=================================================================\n",
            "Total params: 1,408\n",
            "Trainable params: 1,408\n",
            "Non-trainable params: 0\n",
            "_________________________________________________________________\n"
          ],
          "name": "stdout"
        }
      ]
    },
    {
      "cell_type": "markdown",
      "metadata": {
        "id": "-mU1xdLWo0-j"
      },
      "source": [
        "``` \n",
        "Quiz\n",
        "1. Embedding을 사용하여 단어 집합(Vocabulary)의 크기가 5,000이고, 임베딩 벡터의 차원은 100입니다.\n",
        "2. 은닉층에서 Simple RNN을 사용하여 은닉상태의 크기는 128이다.\n",
        "3. 훈련에 사용하는 모든 샘플의 길이는 30으로 가정\n",
        "4. 이진 분류를 수행하는 모델로, 출력층의 뉴련은 1개로 시그모이드 함수를 사용\n",
        "5. 은닉층은 1개\n",
        "\n",
        "총 파라미터 갯수를 구하시오.\n",
        "\n",
        "```\n",
        "Wx = 은닉상태의 크기 * 입력의 차원\n",
        "\n",
        "Wh = 은닉상태의 크기 * 은닉상태의 크기\n",
        "\n",
        "\n",
        "Embedding = 5,000(input) * 100(embedding) = 500,000\n",
        "\n",
        "Wx = 100(embedding) * 128(hidden) = 12,800\n",
        "\n",
        "Wh = 128 * 128 = 16,384\n",
        "\n",
        "bias(hidden)  = 128\n",
        "\n",
        "Wy = 128\n",
        "\n",
        "bias(output) = 1\n",
        "\n",
        "total = 529,441 "
      ]
    },
    {
      "cell_type": "code",
      "metadata": {
        "colab": {
          "base_uri": "https://localhost:8080/"
        },
        "id": "PhzG7nCBpQfA",
        "outputId": "396aa91f-f788-456b-98bf-4f8b329e3b82"
      },
      "source": [
        "from tensorflow.keras import layers\n",
        "model = Sequential()\n",
        "model.add(layers.Embedding(input_dim=5000, output_dim=100))\n",
        "model.add(layers.SimpleRNN(128))\n",
        "model.add(layers.Dense(1,activation='sigmoid'))\n",
        "\n",
        "model.summary()"
      ],
      "execution_count": 48,
      "outputs": [
        {
          "output_type": "stream",
          "text": [
            "Model: \"sequential_15\"\n",
            "_________________________________________________________________\n",
            "Layer (type)                 Output Shape              Param #   \n",
            "=================================================================\n",
            "embedding_1 (Embedding)      (None, None, 100)         500000    \n",
            "_________________________________________________________________\n",
            "simple_rnn_18 (SimpleRNN)    (None, 128)               29312     \n",
            "_________________________________________________________________\n",
            "dense_1 (Dense)              (None, 1)                 129       \n",
            "=================================================================\n",
            "Total params: 529,441\n",
            "Trainable params: 529,441\n",
            "Non-trainable params: 0\n",
            "_________________________________________________________________\n"
          ],
          "name": "stdout"
        }
      ]
    },
    {
      "cell_type": "markdown",
      "metadata": {
        "id": "x1CPdiUhqVrO"
      },
      "source": [
        "## 임의의 입력으로 SimpleRNN과 LSTM 이해하기"
      ]
    },
    {
      "cell_type": "code",
      "metadata": {
        "id": "WpHcD3tJO4aI"
      },
      "source": [
        "import numpy as np\n",
        "import tensorflow as tf\n",
        "from tensorflow.keras.layers import SimpleRNN, LSTM, Bidirectional"
      ],
      "execution_count": 1,
      "outputs": []
    },
    {
      "cell_type": "code",
      "metadata": {
        "colab": {
          "base_uri": "https://localhost:8080/"
        },
        "id": "0yCw5JRVPCU3",
        "outputId": "6f53e284-ec57-4799-f3c6-ee7aad020d07"
      },
      "source": [
        "train_x = [[0.1, 4.2, 1.5, 1.1, 2.8], [1.0, 3.1, 2.5, 0.7, 1.1], [0.3, 2.1, 1.5, 2.1, 0.1], [2.2, 1.4, 0.5, 0.9, 1.1]]\n",
        "print(np.shape(train_x)) # 단어 벡터차원은 5, 문장의 길이가 4인 경우를 가정한 것"
      ],
      "execution_count": 3,
      "outputs": [
        {
          "output_type": "stream",
          "text": [
            "(4, 5)\n"
          ],
          "name": "stdout"
        }
      ]
    },
    {
      "cell_type": "code",
      "metadata": {
        "colab": {
          "base_uri": "https://localhost:8080/"
        },
        "id": "JdlxbSazPW88",
        "outputId": "cd29c1d7-3a42-4072-ff62-2ce45fcf1111"
      },
      "source": [
        "train_x = [[[0.1, 4.2, 1.5, 1.1, 2.8], [1.0, 3.1, 2.5, 0.7, 1.1], [0.3, 2.1, 1.5, 2.1, 0.1], [2.2, 1.4, 0.5, 0.9, 1.1]]]\n",
        "train_x = np.array(train_x, dtype=np.float32)\n",
        "print(train_x.shape)  # (batch_size, timesteps, imput_dim) "
      ],
      "execution_count": 4,
      "outputs": [
        {
          "output_type": "stream",
          "text": [
            "(1, 4, 5)\n"
          ],
          "name": "stdout"
        }
      ]
    },
    {
      "cell_type": "code",
      "metadata": {
        "colab": {
          "base_uri": "https://localhost:8080/"
        },
        "id": "Bx7TVRuKQD7w",
        "outputId": "3cfeba6a-9037-4c02-9574-f6c120a48287"
      },
      "source": [
        "rnn = SimpleRNN(3) # rnn = SimpleRNN(3, return_sequences=False, return_state=False)와 동일\n",
        "hidden_state = rnn(train_x)\n",
        "\n",
        "print('hidden state : {}, shape: {}'.format(hidden_state, hidden_state.shape))"
      ],
      "execution_count": 5,
      "outputs": [
        {
          "output_type": "stream",
          "text": [
            "hidden state : [[ 0.6609109  -0.74089336  0.9105142 ]], shape: (1, 3)\n"
          ],
          "name": "stdout"
        }
      ]
    },
    {
      "cell_type": "code",
      "metadata": {
        "colab": {
          "base_uri": "https://localhost:8080/"
        },
        "id": "NfuNFCJeRY-z",
        "outputId": "b54133a7-300f-4441-b6e1-0917c41ec0c9"
      },
      "source": [
        "rnn = SimpleRNN(3, return_sequences=True)\n",
        "hidden_state = rnn(train_x)\n",
        "print('hidden states : {}, shape : {}'.format(hidden_state, hidden_state.shape))"
      ],
      "execution_count": 6,
      "outputs": [
        {
          "output_type": "stream",
          "text": [
            "hidden states : [[[ 0.99970037 -0.77856284 -0.6117743 ]\n",
            "  [ 0.9967661  -0.99862456  0.8509117 ]\n",
            "  [ 0.9774142  -0.99771607  0.9772807 ]\n",
            "  [ 0.9787797  -0.99630713  0.9953904 ]]], shape : (1, 4, 3)\n"
          ],
          "name": "stdout"
        }
      ]
    },
    {
      "cell_type": "code",
      "metadata": {
        "colab": {
          "base_uri": "https://localhost:8080/"
        },
        "id": "7ak7D42lRaMr",
        "outputId": "29ad3db7-bd37-48dd-cf08-535bd2170728"
      },
      "source": [
        "rnn = SimpleRNN(3, return_sequences=True, return_state=True)\n",
        "hidden_state, last_state = rnn(train_x)\n",
        "\n",
        "print('hidden states: {}, shape:{}'.format(hidden_state, hidden_state.shape))\n",
        "print('last hidden state: {}, shape : {}'.format(last_state, last_state.shape))"
      ],
      "execution_count": 7,
      "outputs": [
        {
          "output_type": "stream",
          "text": [
            "hidden states: [[[ 0.9764161  -0.953357   -0.6644549 ]\n",
            "  [ 0.92235446 -0.9474687  -0.8186774 ]\n",
            "  [ 0.98696274 -0.41896582 -0.4506324 ]\n",
            "  [ 0.1471726  -0.5841303  -0.8904831 ]]], shape:(1, 4, 3)\n",
            "last hidden state: [[ 0.1471726 -0.5841303 -0.8904831]], shape : (1, 3)\n"
          ],
          "name": "stdout"
        }
      ]
    },
    {
      "cell_type": "code",
      "metadata": {
        "colab": {
          "base_uri": "https://localhost:8080/"
        },
        "id": "b_cT-S5fRqgV",
        "outputId": "4e6e14b0-c675-44f6-f61e-cb30997ee118"
      },
      "source": [
        "rnn = SimpleRNN(3, return_sequences=False, return_state=True)\n",
        "hidden_state, last_state = rnn(train_x)\n",
        "\n",
        "print('hidden states: {}, shape:{}'.format(hidden_state, hidden_state.shape))\n",
        "print('last hidden state: {}, shape : {}'.format(last_state, last_state.shape))"
      ],
      "execution_count": 8,
      "outputs": [
        {
          "output_type": "stream",
          "text": [
            "hidden states: [[ 0.43626958  0.09189343 -0.96855444]], shape:(1, 3)\n",
            "last hidden state: [[ 0.43626958  0.09189343 -0.96855444]], shape : (1, 3)\n"
          ],
          "name": "stdout"
        }
      ]
    },
    {
      "cell_type": "markdown",
      "metadata": {
        "id": "9_-N7dz8SZmX"
      },
      "source": [
        "## LSTM 이해하기"
      ]
    },
    {
      "cell_type": "code",
      "metadata": {
        "colab": {
          "base_uri": "https://localhost:8080/"
        },
        "id": "uH5f-Os7SIhk",
        "outputId": "b6a143af-5ef8-475c-de8f-0fbfb2cdf141"
      },
      "source": [
        "lstm = LSTM(3, return_sequences=False, return_state=True)\n",
        "hidden_state, last_state, last_cell_state = lstm(train_x)\n",
        "\n",
        "print('hidden states: {}, shape:{}'.format(hidden_state, hidden_state.shape))\n",
        "print('last hidden state: {}, shape : {}'.format(last_state, last_state.shape))\n",
        "print('last cell state : {}, shape : {}'.format(last_cell_state, last_cell_state.shape))"
      ],
      "execution_count": 15,
      "outputs": [
        {
          "output_type": "stream",
          "text": [
            "hidden states: [[-0.39959276 -0.6754804  -0.23839183]], shape:(1, 3)\n",
            "last hidden state: [[-0.39959276 -0.6754804  -0.23839183]], shape : (1, 3)\n",
            "last cell state : [[-0.846239   -1.3075279  -0.73367035]], shape : (1, 3)\n"
          ],
          "name": "stdout"
        }
      ]
    },
    {
      "cell_type": "code",
      "metadata": {
        "colab": {
          "base_uri": "https://localhost:8080/"
        },
        "id": "Ex0YuI9RSyc5",
        "outputId": "07a9e856-ddf0-4b2f-99c3-c41602e79676"
      },
      "source": [
        "lstm = LSTM(3, return_sequences=True, return_state=True)\n",
        "hidden_state, last_state, last_cell_state = lstm(train_x)\n",
        "\n",
        "print('hidden states: {}, shape:{}'.format(hidden_state, hidden_state.shape))\n",
        "print('last hidden state: {}, shape : {}'.format(last_state, last_state.shape))\n",
        "print('last cell state : {}, shape : {}'.format(last_cell_state, last_cell_state.shape))"
      ],
      "execution_count": 16,
      "outputs": [
        {
          "output_type": "stream",
          "text": [
            "hidden states: [[[-0.06176076  0.01672751  0.48412633]\n",
            "  [-0.10796634  0.19146031  0.27811646]\n",
            "  [ 0.05934399  0.21796514 -0.0751285 ]\n",
            "  [ 0.21582921  0.08530392  0.20115831]]], shape:(1, 4, 3)\n",
            "last hidden state: [[0.21582921 0.08530392 0.20115831]], shape : (1, 3)\n",
            "last cell state : [[0.49778485 0.14463216 0.25743014]], shape : (1, 3)\n"
          ],
          "name": "stdout"
        }
      ]
    },
    {
      "cell_type": "markdown",
      "metadata": {
        "id": "TDeXFdO5TbO6"
      },
      "source": [
        "## Bidirectional (LSTM) 이해하기"
      ]
    },
    {
      "cell_type": "code",
      "metadata": {
        "id": "6zAxQ8_eUCpE"
      },
      "source": [
        "k_init = tf.keras.initializers.Constant(value=0.1)\n",
        "b_init = tf.keras.initializers.Constant(value=0)\n",
        "r_init = tf.keras.initializers.Constant(value=0.1)"
      ],
      "execution_count": 17,
      "outputs": []
    },
    {
      "cell_type": "code",
      "metadata": {
        "colab": {
          "base_uri": "https://localhost:8080/"
        },
        "id": "u2KBXyk-USQ7",
        "outputId": "f383f8c2-7085-4b06-a058-a22f685123a6"
      },
      "source": [
        "bilstm = Bidirectional(LSTM(3, return_sequences=False, return_state=True, kernel_initializer=k_init, bias_initializer=b_init, recurrent_initializer=r_init))\n",
        "hidden_state, forward_h, forward_c, backward_h, backward_c = bilstm(train_x)\n",
        "\n",
        "print('hidden states: {}, shape:{}'.format(hidden_state, hidden_state.shape))\n",
        "print('forward states: {}, shape:{}'.format(forward_h, forward_h.shape))\n",
        "print('backward_h states: {}, shape:{}'.format(backward_h, backward_h.shape))"
      ],
      "execution_count": 18,
      "outputs": [
        {
          "output_type": "stream",
          "text": [
            "hidden states: [[0.63031393 0.63031393 0.63031393 0.7038734  0.7038734  0.7038734 ]], shape:(1, 6)\n",
            "forward states: [[0.63031393 0.63031393 0.63031393]], shape:(1, 3)\n",
            "backward_h states: [[0.7038734 0.7038734 0.7038734]], shape:(1, 3)\n"
          ],
          "name": "stdout"
        }
      ]
    },
    {
      "cell_type": "code",
      "metadata": {
        "colab": {
          "base_uri": "https://localhost:8080/"
        },
        "id": "EF_98sHuVGB-",
        "outputId": "3d56db71-ee74-4623-fd21-09711f960496"
      },
      "source": [
        "bilstm = Bidirectional(LSTM(3, return_sequences=True, return_state=True, kernel_initializer=k_init, bias_initializer=b_init, recurrent_initializer=r_init))\n",
        "hidden_state, forward_h, forward_c, backward_h, backward_c = bilstm(train_x)\n",
        "\n",
        "print('hidden states: {}, shape:{}'.format(hidden_state, hidden_state.shape))\n",
        "print('forward states: {}, shape:{}'.format(forward_h, forward_h.shape))\n",
        "print('backward_h states: {}, shape:{}'.format(backward_h, backward_h.shape))"
      ],
      "execution_count": 19,
      "outputs": [
        {
          "output_type": "stream",
          "text": [
            "hidden states: [[[0.35906473 0.35906473 0.35906473 0.7038734  0.7038734  0.7038734 ]\n",
            "  [0.5511133  0.5511133  0.5511133  0.58863586 0.58863586 0.58863586]\n",
            "  [0.59115744 0.59115744 0.59115744 0.3951699  0.3951699  0.3951699 ]\n",
            "  [0.63031393 0.63031393 0.63031393 0.21942244 0.21942244 0.21942244]]], shape:(1, 4, 6)\n",
            "forward states: [[0.63031393 0.63031393 0.63031393]], shape:(1, 3)\n",
            "backward_h states: [[0.7038734 0.7038734 0.7038734]], shape:(1, 3)\n"
          ],
          "name": "stdout"
        }
      ]
    },
    {
      "cell_type": "markdown",
      "metadata": {
        "id": "HpMnrWWfa88M"
      },
      "source": [
        "hidden state 를 보는 의미가 무엇인가요?\n",
        "\n",
        "model을 설계하다보면 첫번째 은닉층을 가져다 쓸경우도 있고, 두번째 state를 가져다 쓸수도 있고 마지막 층을 가져다 쓸경우도 있는데, 안에 state결과값을 보면 좀더 쉽게 이해가 되서 보고 있습니다!\n",
        "\n",
        "정확히는 이제 뒤에 배울 attention개념이 들어가면 이 hidden state를 가지고 점수를 매기기 때문에 return sequence를 True/False에 따라 hidden state가 어떻게 출력되는지 보시면 좋을 것 같습니다\n",
        "\n",
        "그럼 hidden state 값을 보면서 알맞은 은닉층을 선택해서 사용할 수 있다는 말씀으로 이해하면 되겠네요\n"
      ]
    },
    {
      "cell_type": "markdown",
      "metadata": {
        "id": "My2cPfWkV9DB"
      },
      "source": [
        "## RNN을 이용한 텍스트 생성(Text Generation)\n",
        "- 다 대 일 (many to one)구조의 RNN을 사용하여 문맥을 반영해서 텍스트를 생성하는 모델을 만들어 보자\n",
        "- '경마장에 있는 말이 뛰고 있다'\n",
        "- '그의 말이 법이다'\n",
        "- '가는 말이 고와야 오는 말이 곱다'"
      ]
    },
    {
      "cell_type": "code",
      "metadata": {
        "colab": {
          "base_uri": "https://localhost:8080/",
          "height": 388
        },
        "id": "hVLNa65BZxMv",
        "outputId": "00715d4c-acfa-480c-bc79-9ae76c05fd5e"
      },
      "source": [
        "import pandas as pd\n",
        "# 위 3문장을 재구성하면, 아래와 같이 총 11개의 샘플이 구성됨\n",
        "content = [['경마장에', '있는'],['경마장에 있는','말이'],['경마장에 있는 말이', '뛰고'],['경마장에 있는 말이 뛰고','있다'],['그의','말이'],['그의 말이','법이다'],['가는', '말이'],['가는 말이','고와야'],['가는 말이 고와야','오는'],['가는 말이 고와야 오는','말이'],['가는 말이 고와야 오는 말이','곱다']]\n",
        "df = pd.DataFrame(content)\n",
        "df.index = ['1', '2', '3', '4', '5', '6', '7', '8', '9','10','11']\n",
        "df.columns = ['X', 'y']\n",
        "df"
      ],
      "execution_count": 20,
      "outputs": [
        {
          "output_type": "execute_result",
          "data": {
            "text/html": [
              "<div>\n",
              "<style scoped>\n",
              "    .dataframe tbody tr th:only-of-type {\n",
              "        vertical-align: middle;\n",
              "    }\n",
              "\n",
              "    .dataframe tbody tr th {\n",
              "        vertical-align: top;\n",
              "    }\n",
              "\n",
              "    .dataframe thead th {\n",
              "        text-align: right;\n",
              "    }\n",
              "</style>\n",
              "<table border=\"1\" class=\"dataframe\">\n",
              "  <thead>\n",
              "    <tr style=\"text-align: right;\">\n",
              "      <th></th>\n",
              "      <th>X</th>\n",
              "      <th>y</th>\n",
              "    </tr>\n",
              "  </thead>\n",
              "  <tbody>\n",
              "    <tr>\n",
              "      <th>1</th>\n",
              "      <td>경마장에</td>\n",
              "      <td>있는</td>\n",
              "    </tr>\n",
              "    <tr>\n",
              "      <th>2</th>\n",
              "      <td>경마장에 있는</td>\n",
              "      <td>말이</td>\n",
              "    </tr>\n",
              "    <tr>\n",
              "      <th>3</th>\n",
              "      <td>경마장에 있는 말이</td>\n",
              "      <td>뛰고</td>\n",
              "    </tr>\n",
              "    <tr>\n",
              "      <th>4</th>\n",
              "      <td>경마장에 있는 말이 뛰고</td>\n",
              "      <td>있다</td>\n",
              "    </tr>\n",
              "    <tr>\n",
              "      <th>5</th>\n",
              "      <td>그의</td>\n",
              "      <td>말이</td>\n",
              "    </tr>\n",
              "    <tr>\n",
              "      <th>6</th>\n",
              "      <td>그의 말이</td>\n",
              "      <td>법이다</td>\n",
              "    </tr>\n",
              "    <tr>\n",
              "      <th>7</th>\n",
              "      <td>가는</td>\n",
              "      <td>말이</td>\n",
              "    </tr>\n",
              "    <tr>\n",
              "      <th>8</th>\n",
              "      <td>가는 말이</td>\n",
              "      <td>고와야</td>\n",
              "    </tr>\n",
              "    <tr>\n",
              "      <th>9</th>\n",
              "      <td>가는 말이 고와야</td>\n",
              "      <td>오는</td>\n",
              "    </tr>\n",
              "    <tr>\n",
              "      <th>10</th>\n",
              "      <td>가는 말이 고와야 오는</td>\n",
              "      <td>말이</td>\n",
              "    </tr>\n",
              "    <tr>\n",
              "      <th>11</th>\n",
              "      <td>가는 말이 고와야 오는 말이</td>\n",
              "      <td>곱다</td>\n",
              "    </tr>\n",
              "  </tbody>\n",
              "</table>\n",
              "</div>"
            ],
            "text/plain": [
              "                  X    y\n",
              "1              경마장에   있는\n",
              "2           경마장에 있는   말이\n",
              "3        경마장에 있는 말이   뛰고\n",
              "4     경마장에 있는 말이 뛰고   있다\n",
              "5                그의   말이\n",
              "6             그의 말이  법이다\n",
              "7                가는   말이\n",
              "8             가는 말이  고와야\n",
              "9         가는 말이 고와야   오는\n",
              "10     가는 말이 고와야 오는   말이\n",
              "11  가는 말이 고와야 오는 말이   곱다"
            ]
          },
          "metadata": {
            "tags": []
          },
          "execution_count": 20
        }
      ]
    },
    {
      "cell_type": "markdown",
      "metadata": {
        "id": "VkxTgAT1b3Hu"
      },
      "source": [
        "## 데이터에 대한 이해와 전처리"
      ]
    },
    {
      "cell_type": "code",
      "metadata": {
        "id": "SOpnkO9uccIK"
      },
      "source": [
        "from tensorflow.keras.preprocessing.text import Tokenizer\n",
        "from tensorflow.keras.preprocessing.sequence import pad_sequences\n",
        "import numpy as np\n",
        "from tensorflow.keras.utils import to_categorical"
      ],
      "execution_count": 22,
      "outputs": []
    },
    {
      "cell_type": "code",
      "metadata": {
        "id": "kL39ecy4cv70"
      },
      "source": [
        "text =\"\"\"경마장에 있는 말이 뛰고 있다 \\n\n",
        "그의 말이 법이다 \\n\n",
        "가는 말이 고와야 오는 말이 곱다\n",
        "\"\"\""
      ],
      "execution_count": 24,
      "outputs": []
    },
    {
      "cell_type": "code",
      "metadata": {
        "colab": {
          "base_uri": "https://localhost:8080/"
        },
        "id": "bdwLVsJBc656",
        "outputId": "2aeedd2f-114e-44db-ce33-808e70c89990"
      },
      "source": [
        "# 단어집합을 생성, 크기를 확인\n",
        "t = Tokenizer()\n",
        "t.fit_on_texts([text])\n",
        "vocab_size = len(t.word_index) +1\n",
        "\n",
        "# 케라스 토크나이저 정수 인코딩은 인덱스가 1부터 시작,\n",
        "# 케라스 원-핫 인코딩에서 배열의 인덱스가 0부터 시작하기 때문에\n",
        "# 배열의 크기를 실제 단어 집합의 크기보다 +1로 생성해야함 그래서 미리 +1 선언\n",
        "print('단어 집합의 크기 : %d'% vocab_size)"
      ],
      "execution_count": 43,
      "outputs": [
        {
          "output_type": "stream",
          "text": [
            "단어 집합의 크기 : 12\n"
          ],
          "name": "stdout"
        }
      ]
    },
    {
      "cell_type": "markdown",
      "metadata": {
        "id": "5ji2-IjXey9r"
      },
      "source": [
        "vocab_size에는 11개가 들어가 있는데 왜 +1해서 vocab_size를 12로 만드나요?\n",
        "\n",
        "ㄴ인덱스가 안맞아서 미리 1을 선언해줘서 12을 만든거에요 실제로는 11개 들어가있죠\n"
      ]
    },
    {
      "cell_type": "code",
      "metadata": {
        "colab": {
          "base_uri": "https://localhost:8080/"
        },
        "id": "jZeD8Z5jdIlT",
        "outputId": "1b89f132-3f08-429b-946d-1da33bbb76e9"
      },
      "source": [
        "print(t.word_index)"
      ],
      "execution_count": 44,
      "outputs": [
        {
          "output_type": "stream",
          "text": [
            "{'말이': 1, '경마장에': 2, '있는': 3, '뛰고': 4, '있다': 5, '그의': 6, '법이다': 7, '가는': 8, '고와야': 9, '오는': 10, '곱다': 11}\n"
          ],
          "name": "stdout"
        }
      ]
    },
    {
      "cell_type": "code",
      "metadata": {
        "colab": {
          "base_uri": "https://localhost:8080/"
        },
        "id": "tmUsIcb4dxQl",
        "outputId": "02eea506-28df-4776-e53e-dda36f7ec1f1"
      },
      "source": [
        "# 훈련 데이터 만들기\n",
        "sequences = list()\n",
        "for line in text.split('\\n'):\n",
        "  encoded = t.texts_to_sequences([line])[0]\n",
        "  for i in range(1, len(encoded)):\n",
        "    sequence = encoded[:i+1]\n",
        "    sequences.append(sequence)\n",
        "\n",
        "print('학습에 사용할 샘플의 갯수 : %d' % len(sequences))"
      ],
      "execution_count": 47,
      "outputs": [
        {
          "output_type": "stream",
          "text": [
            "학습에 사용할 샘플의 갯수 : 11\n"
          ],
          "name": "stdout"
        }
      ]
    },
    {
      "cell_type": "code",
      "metadata": {
        "colab": {
          "base_uri": "https://localhost:8080/"
        },
        "id": "H9brw9muePpw",
        "outputId": "f5f4b2b1-40fd-4052-bbbe-01de137ed7a0"
      },
      "source": [
        "print(sequences)"
      ],
      "execution_count": 48,
      "outputs": [
        {
          "output_type": "stream",
          "text": [
            "[[2, 3], [2, 3, 1], [2, 3, 1, 4], [2, 3, 1, 4, 5], [6, 1], [6, 1, 7], [8, 1], [8, 1, 9], [8, 1, 9, 10], [8, 1, 9, 10, 1], [8, 1, 9, 10, 1, 11]]\n"
          ],
          "name": "stdout"
        }
      ]
    },
    {
      "cell_type": "code",
      "metadata": {
        "colab": {
          "base_uri": "https://localhost:8080/"
        },
        "id": "PYoVYhXue6IV",
        "outputId": "e3707aed-1df7-473d-845d-6a461be8deb8"
      },
      "source": [
        "max_len = max(len(i) for i in sequences) # 모든 샘플에서 길이가 가장 긴 샘플의 길이 출력\n",
        "print('샘플의 최대 길이 : {}'.format(max_len))"
      ],
      "execution_count": 49,
      "outputs": [
        {
          "output_type": "stream",
          "text": [
            "샘플의 최대 길이 : 6\n"
          ],
          "name": "stdout"
        }
      ]
    },
    {
      "cell_type": "code",
      "metadata": {
        "id": "bTZKNsLefJLe"
      },
      "source": [
        "sequences = pad_sequences(sequences, maxlen = max_len, padding='pre')"
      ],
      "execution_count": 50,
      "outputs": []
    },
    {
      "cell_type": "code",
      "metadata": {
        "colab": {
          "base_uri": "https://localhost:8080/"
        },
        "id": "Iu1h83n3fcVo",
        "outputId": "67dc535c-3d8e-48aa-8956-686c7c1af023"
      },
      "source": [
        "print(sequences)"
      ],
      "execution_count": 51,
      "outputs": [
        {
          "output_type": "stream",
          "text": [
            "[[ 0  0  0  0  2  3]\n",
            " [ 0  0  0  2  3  1]\n",
            " [ 0  0  2  3  1  4]\n",
            " [ 0  2  3  1  4  5]\n",
            " [ 0  0  0  0  6  1]\n",
            " [ 0  0  0  6  1  7]\n",
            " [ 0  0  0  0  8  1]\n",
            " [ 0  0  0  8  1  9]\n",
            " [ 0  0  8  1  9 10]\n",
            " [ 0  8  1  9 10  1]\n",
            " [ 8  1  9 10  1 11]]\n"
          ],
          "name": "stdout"
        }
      ]
    },
    {
      "cell_type": "code",
      "metadata": {
        "id": "JREFo2jCfd9E"
      },
      "source": [
        "sequences = np.array(sequences)\n",
        "x = sequences[:, :-1]\n",
        "y = sequences[:, -1]\n",
        "\n",
        "# 리스트의 마지막 값을 제외하고 저장한 것은 x\n",
        "# 리스트의 마지막 값만 저장한 것은 y, --> 레이블에 해당"
      ],
      "execution_count": 54,
      "outputs": []
    },
    {
      "cell_type": "code",
      "metadata": {
        "colab": {
          "base_uri": "https://localhost:8080/"
        },
        "id": "AugxHWYQgZ8r",
        "outputId": "2b9c2a44-f8d0-439f-8ad9-5e6ab30f714c"
      },
      "source": [
        "print(x)\n"
      ],
      "execution_count": 59,
      "outputs": [
        {
          "output_type": "stream",
          "text": [
            "[[ 0  0  0  0  2]\n",
            " [ 0  0  0  2  3]\n",
            " [ 0  0  2  3  1]\n",
            " [ 0  2  3  1  4]\n",
            " [ 0  0  0  0  6]\n",
            " [ 0  0  0  6  1]\n",
            " [ 0  0  0  0  8]\n",
            " [ 0  0  0  8  1]\n",
            " [ 0  0  8  1  9]\n",
            " [ 0  8  1  9 10]\n",
            " [ 8  1  9 10  1]]\n"
          ],
          "name": "stdout"
        }
      ]
    },
    {
      "cell_type": "code",
      "metadata": {
        "colab": {
          "base_uri": "https://localhost:8080/"
        },
        "id": "H8JZlWMEgDk4",
        "outputId": "0443258d-cfde-4e5f-f76e-a45b442bdc3f"
      },
      "source": [
        "print(y) # 모든 샘플에 대한 레이블 출격"
      ],
      "execution_count": 55,
      "outputs": [
        {
          "output_type": "stream",
          "text": [
            "[ 3  1  4  5  1  7  1  9 10  1 11]\n"
          ],
          "name": "stdout"
        }
      ]
    },
    {
      "cell_type": "code",
      "metadata": {
        "id": "6hQqslJkgJv2"
      },
      "source": [
        "y = to_categorical(y, num_classes = vocab_size)"
      ],
      "execution_count": 57,
      "outputs": []
    },
    {
      "cell_type": "code",
      "metadata": {
        "colab": {
          "base_uri": "https://localhost:8080/"
        },
        "id": "Q4q-PunvgSOn",
        "outputId": "70e192a8-1f79-4d5c-a6e8-ff7198738c2d"
      },
      "source": [
        "print(y)"
      ],
      "execution_count": 58,
      "outputs": [
        {
          "output_type": "stream",
          "text": [
            "[[0. 0. 0. 1. 0. 0. 0. 0. 0. 0. 0. 0.]\n",
            " [0. 1. 0. 0. 0. 0. 0. 0. 0. 0. 0. 0.]\n",
            " [0. 0. 0. 0. 1. 0. 0. 0. 0. 0. 0. 0.]\n",
            " [0. 0. 0. 0. 0. 1. 0. 0. 0. 0. 0. 0.]\n",
            " [0. 1. 0. 0. 0. 0. 0. 0. 0. 0. 0. 0.]\n",
            " [0. 0. 0. 0. 0. 0. 0. 1. 0. 0. 0. 0.]\n",
            " [0. 1. 0. 0. 0. 0. 0. 0. 0. 0. 0. 0.]\n",
            " [0. 0. 0. 0. 0. 0. 0. 0. 0. 1. 0. 0.]\n",
            " [0. 0. 0. 0. 0. 0. 0. 0. 0. 0. 1. 0.]\n",
            " [0. 1. 0. 0. 0. 0. 0. 0. 0. 0. 0. 0.]\n",
            " [0. 0. 0. 0. 0. 0. 0. 0. 0. 0. 0. 1.]]\n"
          ],
          "name": "stdout"
        }
      ]
    },
    {
      "cell_type": "markdown",
      "metadata": {
        "id": "-z1D9xhYgVdM"
      },
      "source": [
        "## 모델 설게하기"
      ]
    },
    {
      "cell_type": "code",
      "metadata": {
        "id": "N-kM_cOwgmzT"
      },
      "source": [
        "from tensorflow.keras.models import Sequential\n",
        "from tensorflow.keras.layers import Embedding, Dense, SimpleRNN"
      ],
      "execution_count": 60,
      "outputs": []
    },
    {
      "cell_type": "code",
      "metadata": {
        "colab": {
          "base_uri": "https://localhost:8080/"
        },
        "id": "z_PtLL6nkORb",
        "outputId": "8653a0a0-c89e-4309-a843-186a16d63cf5"
      },
      "source": [
        "model = Sequential()\n",
        "model.add(Embedding(vocab_size, 10, input_length=max_len-1))\n",
        "model.add(SimpleRNN(32))\n",
        "model.add(Dense(vocab_size, activation='softmax'))\n",
        "model.compile(loss='categorical_crossentropy', optimizer='adam', metrics=['accuracy'])\n",
        "model.fit(x, y, epochs=200, verbose=2)"
      ],
      "execution_count": 61,
      "outputs": [
        {
          "output_type": "stream",
          "text": [
            "Epoch 1/200\n",
            "1/1 - 1s - loss: 2.5007 - accuracy: 0.0000e+00\n",
            "Epoch 2/200\n",
            "1/1 - 0s - loss: 2.4882 - accuracy: 0.0000e+00\n",
            "Epoch 3/200\n",
            "1/1 - 0s - loss: 2.4758 - accuracy: 0.1818\n",
            "Epoch 4/200\n",
            "1/1 - 0s - loss: 2.4635 - accuracy: 0.1818\n",
            "Epoch 5/200\n",
            "1/1 - 0s - loss: 2.4511 - accuracy: 0.1818\n",
            "Epoch 6/200\n",
            "1/1 - 0s - loss: 2.4386 - accuracy: 0.3636\n",
            "Epoch 7/200\n",
            "1/1 - 0s - loss: 2.4258 - accuracy: 0.3636\n",
            "Epoch 8/200\n",
            "1/1 - 0s - loss: 2.4127 - accuracy: 0.3636\n",
            "Epoch 9/200\n",
            "1/1 - 0s - loss: 2.3992 - accuracy: 0.4545\n",
            "Epoch 10/200\n",
            "1/1 - 0s - loss: 2.3852 - accuracy: 0.5455\n",
            "Epoch 11/200\n",
            "1/1 - 0s - loss: 2.3706 - accuracy: 0.5455\n",
            "Epoch 12/200\n",
            "1/1 - 0s - loss: 2.3553 - accuracy: 0.5455\n",
            "Epoch 13/200\n",
            "1/1 - 0s - loss: 2.3393 - accuracy: 0.5455\n",
            "Epoch 14/200\n",
            "1/1 - 0s - loss: 2.3225 - accuracy: 0.5455\n",
            "Epoch 15/200\n",
            "1/1 - 0s - loss: 2.3049 - accuracy: 0.5455\n",
            "Epoch 16/200\n",
            "1/1 - 0s - loss: 2.2863 - accuracy: 0.5455\n",
            "Epoch 17/200\n",
            "1/1 - 0s - loss: 2.2669 - accuracy: 0.3636\n",
            "Epoch 18/200\n",
            "1/1 - 0s - loss: 2.2465 - accuracy: 0.3636\n",
            "Epoch 19/200\n",
            "1/1 - 0s - loss: 2.2252 - accuracy: 0.3636\n",
            "Epoch 20/200\n",
            "1/1 - 0s - loss: 2.2030 - accuracy: 0.3636\n",
            "Epoch 21/200\n",
            "1/1 - 0s - loss: 2.1800 - accuracy: 0.3636\n",
            "Epoch 22/200\n",
            "1/1 - 0s - loss: 2.1564 - accuracy: 0.3636\n",
            "Epoch 23/200\n",
            "1/1 - 0s - loss: 2.1323 - accuracy: 0.3636\n",
            "Epoch 24/200\n",
            "1/1 - 0s - loss: 2.1079 - accuracy: 0.3636\n",
            "Epoch 25/200\n",
            "1/1 - 0s - loss: 2.0836 - accuracy: 0.3636\n",
            "Epoch 26/200\n",
            "1/1 - 0s - loss: 2.0596 - accuracy: 0.3636\n",
            "Epoch 27/200\n",
            "1/1 - 0s - loss: 2.0363 - accuracy: 0.3636\n",
            "Epoch 28/200\n",
            "1/1 - 0s - loss: 2.0139 - accuracy: 0.3636\n",
            "Epoch 29/200\n",
            "1/1 - 0s - loss: 1.9929 - accuracy: 0.3636\n",
            "Epoch 30/200\n",
            "1/1 - 0s - loss: 1.9733 - accuracy: 0.3636\n",
            "Epoch 31/200\n",
            "1/1 - 0s - loss: 1.9551 - accuracy: 0.3636\n",
            "Epoch 32/200\n",
            "1/1 - 0s - loss: 1.9381 - accuracy: 0.3636\n",
            "Epoch 33/200\n",
            "1/1 - 0s - loss: 1.9220 - accuracy: 0.3636\n",
            "Epoch 34/200\n",
            "1/1 - 0s - loss: 1.9063 - accuracy: 0.3636\n",
            "Epoch 35/200\n",
            "1/1 - 0s - loss: 1.8906 - accuracy: 0.3636\n",
            "Epoch 36/200\n",
            "1/1 - 0s - loss: 1.8744 - accuracy: 0.3636\n",
            "Epoch 37/200\n",
            "1/1 - 0s - loss: 1.8576 - accuracy: 0.3636\n",
            "Epoch 38/200\n",
            "1/1 - 0s - loss: 1.8401 - accuracy: 0.3636\n",
            "Epoch 39/200\n",
            "1/1 - 0s - loss: 1.8219 - accuracy: 0.3636\n",
            "Epoch 40/200\n",
            "1/1 - 0s - loss: 1.8032 - accuracy: 0.3636\n",
            "Epoch 41/200\n",
            "1/1 - 0s - loss: 1.7842 - accuracy: 0.3636\n",
            "Epoch 42/200\n",
            "1/1 - 0s - loss: 1.7652 - accuracy: 0.3636\n",
            "Epoch 43/200\n",
            "1/1 - 0s - loss: 1.7464 - accuracy: 0.3636\n",
            "Epoch 44/200\n",
            "1/1 - 0s - loss: 1.7278 - accuracy: 0.3636\n",
            "Epoch 45/200\n",
            "1/1 - 0s - loss: 1.7095 - accuracy: 0.3636\n",
            "Epoch 46/200\n",
            "1/1 - 0s - loss: 1.6914 - accuracy: 0.3636\n",
            "Epoch 47/200\n",
            "1/1 - 0s - loss: 1.6733 - accuracy: 0.3636\n",
            "Epoch 48/200\n",
            "1/1 - 0s - loss: 1.6551 - accuracy: 0.3636\n",
            "Epoch 49/200\n",
            "1/1 - 0s - loss: 1.6365 - accuracy: 0.4545\n",
            "Epoch 50/200\n",
            "1/1 - 0s - loss: 1.6175 - accuracy: 0.4545\n",
            "Epoch 51/200\n",
            "1/1 - 0s - loss: 1.5978 - accuracy: 0.4545\n",
            "Epoch 52/200\n",
            "1/1 - 0s - loss: 1.5774 - accuracy: 0.4545\n",
            "Epoch 53/200\n",
            "1/1 - 0s - loss: 1.5564 - accuracy: 0.4545\n",
            "Epoch 54/200\n",
            "1/1 - 0s - loss: 1.5347 - accuracy: 0.5455\n",
            "Epoch 55/200\n",
            "1/1 - 0s - loss: 1.5126 - accuracy: 0.5455\n",
            "Epoch 56/200\n",
            "1/1 - 0s - loss: 1.4900 - accuracy: 0.5455\n",
            "Epoch 57/200\n",
            "1/1 - 0s - loss: 1.4671 - accuracy: 0.5455\n",
            "Epoch 58/200\n",
            "1/1 - 0s - loss: 1.4440 - accuracy: 0.5455\n",
            "Epoch 59/200\n",
            "1/1 - 0s - loss: 1.4207 - accuracy: 0.5455\n",
            "Epoch 60/200\n",
            "1/1 - 0s - loss: 1.3973 - accuracy: 0.5455\n",
            "Epoch 61/200\n",
            "1/1 - 0s - loss: 1.3738 - accuracy: 0.6364\n",
            "Epoch 62/200\n",
            "1/1 - 0s - loss: 1.3502 - accuracy: 0.6364\n",
            "Epoch 63/200\n",
            "1/1 - 0s - loss: 1.3265 - accuracy: 0.6364\n",
            "Epoch 64/200\n",
            "1/1 - 0s - loss: 1.3027 - accuracy: 0.6364\n",
            "Epoch 65/200\n",
            "1/1 - 0s - loss: 1.2788 - accuracy: 0.6364\n",
            "Epoch 66/200\n",
            "1/1 - 0s - loss: 1.2549 - accuracy: 0.6364\n",
            "Epoch 67/200\n",
            "1/1 - 0s - loss: 1.2311 - accuracy: 0.7273\n",
            "Epoch 68/200\n",
            "1/1 - 0s - loss: 1.2075 - accuracy: 0.7273\n",
            "Epoch 69/200\n",
            "1/1 - 0s - loss: 1.1841 - accuracy: 0.7273\n",
            "Epoch 70/200\n",
            "1/1 - 0s - loss: 1.1611 - accuracy: 0.7273\n",
            "Epoch 71/200\n",
            "1/1 - 0s - loss: 1.1384 - accuracy: 0.7273\n",
            "Epoch 72/200\n",
            "1/1 - 0s - loss: 1.1160 - accuracy: 0.7273\n",
            "Epoch 73/200\n",
            "1/1 - 0s - loss: 1.0941 - accuracy: 0.7273\n",
            "Epoch 74/200\n",
            "1/1 - 0s - loss: 1.0724 - accuracy: 0.7273\n",
            "Epoch 75/200\n",
            "1/1 - 0s - loss: 1.0511 - accuracy: 0.7273\n",
            "Epoch 76/200\n",
            "1/1 - 0s - loss: 1.0302 - accuracy: 0.7273\n",
            "Epoch 77/200\n",
            "1/1 - 0s - loss: 1.0096 - accuracy: 0.7273\n",
            "Epoch 78/200\n",
            "1/1 - 0s - loss: 0.9893 - accuracy: 0.7273\n",
            "Epoch 79/200\n",
            "1/1 - 0s - loss: 0.9695 - accuracy: 0.7273\n",
            "Epoch 80/200\n",
            "1/1 - 0s - loss: 0.9500 - accuracy: 0.7273\n",
            "Epoch 81/200\n",
            "1/1 - 0s - loss: 0.9310 - accuracy: 0.7273\n",
            "Epoch 82/200\n",
            "1/1 - 0s - loss: 0.9123 - accuracy: 0.7273\n",
            "Epoch 83/200\n",
            "1/1 - 0s - loss: 0.8940 - accuracy: 0.7273\n",
            "Epoch 84/200\n",
            "1/1 - 0s - loss: 0.8761 - accuracy: 0.7273\n",
            "Epoch 85/200\n",
            "1/1 - 0s - loss: 0.8586 - accuracy: 0.7273\n",
            "Epoch 86/200\n",
            "1/1 - 0s - loss: 0.8414 - accuracy: 0.7273\n",
            "Epoch 87/200\n",
            "1/1 - 0s - loss: 0.8246 - accuracy: 0.8182\n",
            "Epoch 88/200\n",
            "1/1 - 0s - loss: 0.8082 - accuracy: 0.8182\n",
            "Epoch 89/200\n",
            "1/1 - 0s - loss: 0.7921 - accuracy: 0.8182\n",
            "Epoch 90/200\n",
            "1/1 - 0s - loss: 0.7764 - accuracy: 0.8182\n",
            "Epoch 91/200\n",
            "1/1 - 0s - loss: 0.7610 - accuracy: 0.8182\n",
            "Epoch 92/200\n",
            "1/1 - 0s - loss: 0.7460 - accuracy: 0.8182\n",
            "Epoch 93/200\n",
            "1/1 - 0s - loss: 0.7313 - accuracy: 0.8182\n",
            "Epoch 94/200\n",
            "1/1 - 0s - loss: 0.7169 - accuracy: 0.8182\n",
            "Epoch 95/200\n",
            "1/1 - 0s - loss: 0.7028 - accuracy: 0.8182\n",
            "Epoch 96/200\n",
            "1/1 - 0s - loss: 0.6890 - accuracy: 0.8182\n",
            "Epoch 97/200\n",
            "1/1 - 0s - loss: 0.6755 - accuracy: 0.8182\n",
            "Epoch 98/200\n",
            "1/1 - 0s - loss: 0.6622 - accuracy: 0.8182\n",
            "Epoch 99/200\n",
            "1/1 - 0s - loss: 0.6493 - accuracy: 0.8182\n",
            "Epoch 100/200\n",
            "1/1 - 0s - loss: 0.6366 - accuracy: 0.8182\n",
            "Epoch 101/200\n",
            "1/1 - 0s - loss: 0.6242 - accuracy: 0.8182\n",
            "Epoch 102/200\n",
            "1/1 - 0s - loss: 0.6120 - accuracy: 0.8182\n",
            "Epoch 103/200\n",
            "1/1 - 0s - loss: 0.6001 - accuracy: 0.8182\n",
            "Epoch 104/200\n",
            "1/1 - 0s - loss: 0.5884 - accuracy: 0.8182\n",
            "Epoch 105/200\n",
            "1/1 - 0s - loss: 0.5769 - accuracy: 0.8182\n",
            "Epoch 106/200\n",
            "1/1 - 0s - loss: 0.5657 - accuracy: 0.8182\n",
            "Epoch 107/200\n",
            "1/1 - 0s - loss: 0.5547 - accuracy: 0.8182\n",
            "Epoch 108/200\n",
            "1/1 - 0s - loss: 0.5439 - accuracy: 0.8182\n",
            "Epoch 109/200\n",
            "1/1 - 0s - loss: 0.5333 - accuracy: 0.9091\n",
            "Epoch 110/200\n",
            "1/1 - 0s - loss: 0.5229 - accuracy: 0.9091\n",
            "Epoch 111/200\n",
            "1/1 - 0s - loss: 0.5127 - accuracy: 0.9091\n",
            "Epoch 112/200\n",
            "1/1 - 0s - loss: 0.5027 - accuracy: 0.9091\n",
            "Epoch 113/200\n",
            "1/1 - 0s - loss: 0.4928 - accuracy: 0.9091\n",
            "Epoch 114/200\n",
            "1/1 - 0s - loss: 0.4832 - accuracy: 0.9091\n",
            "Epoch 115/200\n",
            "1/1 - 0s - loss: 0.4737 - accuracy: 0.9091\n",
            "Epoch 116/200\n",
            "1/1 - 0s - loss: 0.4645 - accuracy: 0.9091\n",
            "Epoch 117/200\n",
            "1/1 - 0s - loss: 0.4553 - accuracy: 0.9091\n",
            "Epoch 118/200\n",
            "1/1 - 0s - loss: 0.4464 - accuracy: 0.9091\n",
            "Epoch 119/200\n",
            "1/1 - 0s - loss: 0.4376 - accuracy: 0.9091\n",
            "Epoch 120/200\n",
            "1/1 - 0s - loss: 0.4290 - accuracy: 0.9091\n",
            "Epoch 121/200\n",
            "1/1 - 0s - loss: 0.4205 - accuracy: 0.9091\n",
            "Epoch 122/200\n",
            "1/1 - 0s - loss: 0.4122 - accuracy: 0.9091\n",
            "Epoch 123/200\n",
            "1/1 - 0s - loss: 0.4040 - accuracy: 0.9091\n",
            "Epoch 124/200\n",
            "1/1 - 0s - loss: 0.3960 - accuracy: 0.9091\n",
            "Epoch 125/200\n",
            "1/1 - 0s - loss: 0.3881 - accuracy: 0.9091\n",
            "Epoch 126/200\n",
            "1/1 - 0s - loss: 0.3804 - accuracy: 0.9091\n",
            "Epoch 127/200\n",
            "1/1 - 0s - loss: 0.3728 - accuracy: 0.9091\n",
            "Epoch 128/200\n",
            "1/1 - 0s - loss: 0.3653 - accuracy: 0.9091\n",
            "Epoch 129/200\n",
            "1/1 - 0s - loss: 0.3580 - accuracy: 0.9091\n",
            "Epoch 130/200\n",
            "1/1 - 0s - loss: 0.3509 - accuracy: 0.9091\n",
            "Epoch 131/200\n",
            "1/1 - 0s - loss: 0.3438 - accuracy: 0.9091\n",
            "Epoch 132/200\n",
            "1/1 - 0s - loss: 0.3369 - accuracy: 0.9091\n",
            "Epoch 133/200\n",
            "1/1 - 0s - loss: 0.3301 - accuracy: 0.9091\n",
            "Epoch 134/200\n",
            "1/1 - 0s - loss: 0.3235 - accuracy: 0.9091\n",
            "Epoch 135/200\n",
            "1/1 - 0s - loss: 0.3169 - accuracy: 1.0000\n",
            "Epoch 136/200\n",
            "1/1 - 0s - loss: 0.3105 - accuracy: 1.0000\n",
            "Epoch 137/200\n",
            "1/1 - 0s - loss: 0.3043 - accuracy: 1.0000\n",
            "Epoch 138/200\n",
            "1/1 - 0s - loss: 0.2981 - accuracy: 1.0000\n",
            "Epoch 139/200\n",
            "1/1 - 0s - loss: 0.2921 - accuracy: 1.0000\n",
            "Epoch 140/200\n",
            "1/1 - 0s - loss: 0.2861 - accuracy: 1.0000\n",
            "Epoch 141/200\n",
            "1/1 - 0s - loss: 0.2803 - accuracy: 1.0000\n",
            "Epoch 142/200\n",
            "1/1 - 0s - loss: 0.2747 - accuracy: 1.0000\n",
            "Epoch 143/200\n",
            "1/1 - 0s - loss: 0.2691 - accuracy: 1.0000\n",
            "Epoch 144/200\n",
            "1/1 - 0s - loss: 0.2636 - accuracy: 1.0000\n",
            "Epoch 145/200\n",
            "1/1 - 0s - loss: 0.2583 - accuracy: 1.0000\n",
            "Epoch 146/200\n",
            "1/1 - 0s - loss: 0.2531 - accuracy: 1.0000\n",
            "Epoch 147/200\n",
            "1/1 - 0s - loss: 0.2479 - accuracy: 1.0000\n",
            "Epoch 148/200\n",
            "1/1 - 0s - loss: 0.2429 - accuracy: 1.0000\n",
            "Epoch 149/200\n",
            "1/1 - 0s - loss: 0.2380 - accuracy: 1.0000\n",
            "Epoch 150/200\n",
            "1/1 - 0s - loss: 0.2332 - accuracy: 1.0000\n",
            "Epoch 151/200\n",
            "1/1 - 0s - loss: 0.2285 - accuracy: 1.0000\n",
            "Epoch 152/200\n",
            "1/1 - 0s - loss: 0.2239 - accuracy: 1.0000\n",
            "Epoch 153/200\n",
            "1/1 - 0s - loss: 0.2194 - accuracy: 1.0000\n",
            "Epoch 154/200\n",
            "1/1 - 0s - loss: 0.2150 - accuracy: 1.0000\n",
            "Epoch 155/200\n",
            "1/1 - 0s - loss: 0.2107 - accuracy: 1.0000\n",
            "Epoch 156/200\n",
            "1/1 - 0s - loss: 0.2065 - accuracy: 1.0000\n",
            "Epoch 157/200\n",
            "1/1 - 0s - loss: 0.2024 - accuracy: 1.0000\n",
            "Epoch 158/200\n",
            "1/1 - 0s - loss: 0.1983 - accuracy: 1.0000\n",
            "Epoch 159/200\n",
            "1/1 - 0s - loss: 0.1944 - accuracy: 1.0000\n",
            "Epoch 160/200\n",
            "1/1 - 0s - loss: 0.1906 - accuracy: 1.0000\n",
            "Epoch 161/200\n",
            "1/1 - 0s - loss: 0.1868 - accuracy: 1.0000\n",
            "Epoch 162/200\n",
            "1/1 - 0s - loss: 0.1831 - accuracy: 1.0000\n",
            "Epoch 163/200\n",
            "1/1 - 0s - loss: 0.1796 - accuracy: 1.0000\n",
            "Epoch 164/200\n",
            "1/1 - 0s - loss: 0.1761 - accuracy: 1.0000\n",
            "Epoch 165/200\n",
            "1/1 - 0s - loss: 0.1726 - accuracy: 1.0000\n",
            "Epoch 166/200\n",
            "1/1 - 0s - loss: 0.1693 - accuracy: 1.0000\n",
            "Epoch 167/200\n",
            "1/1 - 0s - loss: 0.1660 - accuracy: 1.0000\n",
            "Epoch 168/200\n",
            "1/1 - 0s - loss: 0.1628 - accuracy: 1.0000\n",
            "Epoch 169/200\n",
            "1/1 - 0s - loss: 0.1597 - accuracy: 1.0000\n",
            "Epoch 170/200\n",
            "1/1 - 0s - loss: 0.1567 - accuracy: 1.0000\n",
            "Epoch 171/200\n",
            "1/1 - 0s - loss: 0.1537 - accuracy: 1.0000\n",
            "Epoch 172/200\n",
            "1/1 - 0s - loss: 0.1508 - accuracy: 1.0000\n",
            "Epoch 173/200\n",
            "1/1 - 0s - loss: 0.1480 - accuracy: 1.0000\n",
            "Epoch 174/200\n",
            "1/1 - 0s - loss: 0.1452 - accuracy: 1.0000\n",
            "Epoch 175/200\n",
            "1/1 - 0s - loss: 0.1426 - accuracy: 1.0000\n",
            "Epoch 176/200\n",
            "1/1 - 0s - loss: 0.1399 - accuracy: 1.0000\n",
            "Epoch 177/200\n",
            "1/1 - 0s - loss: 0.1374 - accuracy: 1.0000\n",
            "Epoch 178/200\n",
            "1/1 - 0s - loss: 0.1348 - accuracy: 1.0000\n",
            "Epoch 179/200\n",
            "1/1 - 0s - loss: 0.1324 - accuracy: 1.0000\n",
            "Epoch 180/200\n",
            "1/1 - 0s - loss: 0.1300 - accuracy: 1.0000\n",
            "Epoch 181/200\n",
            "1/1 - 0s - loss: 0.1277 - accuracy: 1.0000\n",
            "Epoch 182/200\n",
            "1/1 - 0s - loss: 0.1254 - accuracy: 1.0000\n",
            "Epoch 183/200\n",
            "1/1 - 0s - loss: 0.1232 - accuracy: 1.0000\n",
            "Epoch 184/200\n",
            "1/1 - 0s - loss: 0.1210 - accuracy: 1.0000\n",
            "Epoch 185/200\n",
            "1/1 - 0s - loss: 0.1189 - accuracy: 1.0000\n",
            "Epoch 186/200\n",
            "1/1 - 0s - loss: 0.1168 - accuracy: 1.0000\n",
            "Epoch 187/200\n",
            "1/1 - 0s - loss: 0.1148 - accuracy: 1.0000\n",
            "Epoch 188/200\n",
            "1/1 - 0s - loss: 0.1128 - accuracy: 1.0000\n",
            "Epoch 189/200\n",
            "1/1 - 0s - loss: 0.1109 - accuracy: 1.0000\n",
            "Epoch 190/200\n",
            "1/1 - 0s - loss: 0.1090 - accuracy: 1.0000\n",
            "Epoch 191/200\n",
            "1/1 - 0s - loss: 0.1071 - accuracy: 1.0000\n",
            "Epoch 192/200\n",
            "1/1 - 0s - loss: 0.1053 - accuracy: 1.0000\n",
            "Epoch 193/200\n",
            "1/1 - 0s - loss: 0.1036 - accuracy: 1.0000\n",
            "Epoch 194/200\n",
            "1/1 - 0s - loss: 0.1019 - accuracy: 1.0000\n",
            "Epoch 195/200\n",
            "1/1 - 0s - loss: 0.1002 - accuracy: 1.0000\n",
            "Epoch 196/200\n",
            "1/1 - 0s - loss: 0.0986 - accuracy: 1.0000\n",
            "Epoch 197/200\n",
            "1/1 - 0s - loss: 0.0970 - accuracy: 1.0000\n",
            "Epoch 198/200\n",
            "1/1 - 0s - loss: 0.0954 - accuracy: 1.0000\n",
            "Epoch 199/200\n",
            "1/1 - 0s - loss: 0.0939 - accuracy: 1.0000\n",
            "Epoch 200/200\n",
            "1/1 - 0s - loss: 0.0924 - accuracy: 1.0000\n"
          ],
          "name": "stdout"
        },
        {
          "output_type": "execute_result",
          "data": {
            "text/plain": [
              "<tensorflow.python.keras.callbacks.History at 0x7f888a385510>"
            ]
          },
          "metadata": {
            "tags": []
          },
          "execution_count": 61
        }
      ]
    },
    {
      "cell_type": "code",
      "metadata": {
        "id": "jq31rgVtkPdV"
      },
      "source": [
        "# 문장을 생성하는 함수 만들어서 출력하기\n",
        "def sentence_generation(model, t, current_word, n): # 모델, 토크나이저, 현재 단어, 반복할 횟수\n",
        "    init_word = current_word # 처음 들어온 단어도 마지막에 같이 출력하기위해 저장\n",
        "    sentence = ''\n",
        "    for _ in range(n): # n번 반복\n",
        "        encoded = t.texts_to_sequences([current_word])[0] # 현재 단어에 대한 정수 인코딩\n",
        "        encoded = pad_sequences([encoded], maxlen=5, padding='pre') # 데이터에 대한 패딩\n",
        "        result = model.predict_classes(encoded, verbose=0)\n",
        "    # 입력한 X(현재 단어)에 대해서 Y를 예측하고 Y(예측한 단어)를 result에 저장.\n",
        "        for word, index in t.word_index.items(): \n",
        "            if index == result: # 만약 예측한 단어와 인덱스와 동일한 단어가 있다면\n",
        "                break # 해당 단어가 예측 단어이므로 break\n",
        "        current_word = current_word + ' '  + word # 현재 단어 + ' ' + 예측 단어를 현재 단어로 변경\n",
        "        sentence = sentence + ' ' + word # 예측 단어를 문장에 저장\n",
        "    # for문이므로 이 행동을 다시 반복\n",
        "    sentence = init_word + sentence\n",
        "    return sentence"
      ],
      "execution_count": 136,
      "outputs": []
    },
    {
      "cell_type": "code",
      "metadata": {
        "colab": {
          "base_uri": "https://localhost:8080/"
        },
        "id": "4HH4RtyfkSF5",
        "outputId": "c5ce5005-dffe-46ad-ccb7-e1ec6d3647ac"
      },
      "source": [
        "print(sentence_generation(model, t, '경마장에', 4))"
      ],
      "execution_count": 137,
      "outputs": [
        {
          "output_type": "stream",
          "text": [
            "WARNING:tensorflow:Model was constructed with shape (None, 23) for input KerasTensor(type_spec=TensorSpec(shape=(None, 23), dtype=tf.float32, name='embedding_1_input'), name='embedding_1_input', description=\"created by layer 'embedding_1_input'\"), but it was called on an input with incompatible shape (None, 5).\n"
          ],
          "name": "stdout"
        },
        {
          "output_type": "stream",
          "text": [
            "/usr/local/lib/python3.7/dist-packages/tensorflow/python/keras/engine/sequential.py:455: UserWarning: `model.predict_classes()` is deprecated and will be removed after 2021-01-01. Please use instead:* `np.argmax(model.predict(x), axis=-1)`,   if your model does multi-class classification   (e.g. if it uses a `softmax` last-layer activation).* `(model.predict(x) > 0.5).astype(\"int32\")`,   if your model does binary classification   (e.g. if it uses a `sigmoid` last-layer activation).\n",
            "  warnings.warn('`model.predict_classes()` is deprecated and '\n"
          ],
          "name": "stderr"
        },
        {
          "output_type": "stream",
          "text": [
            "경마장에 walk drake tech future\n"
          ],
          "name": "stdout"
        }
      ]
    },
    {
      "cell_type": "code",
      "metadata": {
        "colab": {
          "base_uri": "https://localhost:8080/"
        },
        "id": "L2icnQG0kT_W",
        "outputId": "9045507f-667d-40bd-b8cd-2b15a9562a04"
      },
      "source": [
        "print(sentence_generation(model, t, '그의', 2))"
      ],
      "execution_count": 64,
      "outputs": [
        {
          "output_type": "stream",
          "text": [
            "그의 말이 법이다\n"
          ],
          "name": "stdout"
        },
        {
          "output_type": "stream",
          "text": [
            "/usr/local/lib/python3.7/dist-packages/tensorflow/python/keras/engine/sequential.py:455: UserWarning: `model.predict_classes()` is deprecated and will be removed after 2021-01-01. Please use instead:* `np.argmax(model.predict(x), axis=-1)`,   if your model does multi-class classification   (e.g. if it uses a `softmax` last-layer activation).* `(model.predict(x) > 0.5).astype(\"int32\")`,   if your model does binary classification   (e.g. if it uses a `sigmoid` last-layer activation).\n",
            "  warnings.warn('`model.predict_classes()` is deprecated and '\n"
          ],
          "name": "stderr"
        }
      ]
    },
    {
      "cell_type": "code",
      "metadata": {
        "colab": {
          "base_uri": "https://localhost:8080/"
        },
        "id": "7oRRo_wSkVP7",
        "outputId": "80b450bb-fce7-46fe-ac82-1e33a1129fc0"
      },
      "source": [
        "print(sentence_generation(model, t, '그의', 5))"
      ],
      "execution_count": 135,
      "outputs": [
        {
          "output_type": "stream",
          "text": [
            "/usr/local/lib/python3.7/dist-packages/tensorflow/python/keras/engine/sequential.py:455: UserWarning: `model.predict_classes()` is deprecated and will be removed after 2021-01-01. Please use instead:* `np.argmax(model.predict(x), axis=-1)`,   if your model does multi-class classification   (e.g. if it uses a `softmax` last-layer activation).* `(model.predict(x) > 0.5).astype(\"int32\")`,   if your model does binary classification   (e.g. if it uses a `sigmoid` last-layer activation).\n",
            "  warnings.warn('`model.predict_classes()` is deprecated and '\n"
          ],
          "name": "stderr"
        },
        {
          "output_type": "stream",
          "text": [
            "그의 comebacks your bank account interest\n"
          ],
          "name": "stdout"
        }
      ]
    },
    {
      "cell_type": "markdown",
      "metadata": {
        "id": "PTsMWzXXkWXD"
      },
      "source": [
        "## LSTM 을 이용한 텍스트 생성"
      ]
    },
    {
      "cell_type": "code",
      "metadata": {
        "id": "1BIMC4BwpDV4"
      },
      "source": [
        "import pandas as pd\n",
        "import numpy as np\n",
        "from string import punctuation\n",
        "from tensorflow.keras.preprocessing.text import Tokenizer\n",
        "from tensorflow.keras.preprocessing.sequence import pad_sequences\n",
        "from tensorflow.keras.utils import to_categorical"
      ],
      "execution_count": 67,
      "outputs": []
    },
    {
      "cell_type": "code",
      "metadata": {
        "id": "9DxmW6Gkpg9w"
      },
      "source": [
        "df = pd.read_csv('/content/drive/MyDrive/dataset/ArticlesApril2018.csv')"
      ],
      "execution_count": 68,
      "outputs": []
    },
    {
      "cell_type": "code",
      "metadata": {
        "colab": {
          "base_uri": "https://localhost:8080/",
          "height": 643
        },
        "id": "-ZtvI7xlpsjz",
        "outputId": "e611da89-2936-4755-88d7-f717d5aec1a8"
      },
      "source": [
        "df.head()"
      ],
      "execution_count": 69,
      "outputs": [
        {
          "output_type": "execute_result",
          "data": {
            "text/html": [
              "<div>\n",
              "<style scoped>\n",
              "    .dataframe tbody tr th:only-of-type {\n",
              "        vertical-align: middle;\n",
              "    }\n",
              "\n",
              "    .dataframe tbody tr th {\n",
              "        vertical-align: top;\n",
              "    }\n",
              "\n",
              "    .dataframe thead th {\n",
              "        text-align: right;\n",
              "    }\n",
              "</style>\n",
              "<table border=\"1\" class=\"dataframe\">\n",
              "  <thead>\n",
              "    <tr style=\"text-align: right;\">\n",
              "      <th></th>\n",
              "      <th>articleID</th>\n",
              "      <th>articleWordCount</th>\n",
              "      <th>byline</th>\n",
              "      <th>documentType</th>\n",
              "      <th>headline</th>\n",
              "      <th>keywords</th>\n",
              "      <th>multimedia</th>\n",
              "      <th>newDesk</th>\n",
              "      <th>printPage</th>\n",
              "      <th>pubDate</th>\n",
              "      <th>sectionName</th>\n",
              "      <th>snippet</th>\n",
              "      <th>source</th>\n",
              "      <th>typeOfMaterial</th>\n",
              "      <th>webURL</th>\n",
              "    </tr>\n",
              "  </thead>\n",
              "  <tbody>\n",
              "    <tr>\n",
              "      <th>0</th>\n",
              "      <td>5adf6684068401528a2aa69b</td>\n",
              "      <td>781</td>\n",
              "      <td>By JOHN BRANCH</td>\n",
              "      <td>article</td>\n",
              "      <td>Former N.F.L. Cheerleaders’ Settlement Offer: ...</td>\n",
              "      <td>['Workplace Hazards and Violations', 'Football...</td>\n",
              "      <td>68</td>\n",
              "      <td>Sports</td>\n",
              "      <td>0</td>\n",
              "      <td>2018-04-24 17:16:49</td>\n",
              "      <td>Pro Football</td>\n",
              "      <td>“I understand that they could meet with us, pa...</td>\n",
              "      <td>The New York Times</td>\n",
              "      <td>News</td>\n",
              "      <td>https://www.nytimes.com/2018/04/24/sports/foot...</td>\n",
              "    </tr>\n",
              "    <tr>\n",
              "      <th>1</th>\n",
              "      <td>5adf653f068401528a2aa697</td>\n",
              "      <td>656</td>\n",
              "      <td>By LISA FRIEDMAN</td>\n",
              "      <td>article</td>\n",
              "      <td>E.P.A. to Unveil a New Rule. Its Effect: Less ...</td>\n",
              "      <td>['Environmental Protection Agency', 'Pruitt, S...</td>\n",
              "      <td>68</td>\n",
              "      <td>Climate</td>\n",
              "      <td>0</td>\n",
              "      <td>2018-04-24 17:11:21</td>\n",
              "      <td>Unknown</td>\n",
              "      <td>The agency plans to publish a new regulation T...</td>\n",
              "      <td>The New York Times</td>\n",
              "      <td>News</td>\n",
              "      <td>https://www.nytimes.com/2018/04/24/climate/epa...</td>\n",
              "    </tr>\n",
              "    <tr>\n",
              "      <th>2</th>\n",
              "      <td>5adf4626068401528a2aa628</td>\n",
              "      <td>2427</td>\n",
              "      <td>By PETE WELLS</td>\n",
              "      <td>article</td>\n",
              "      <td>The New Noma, Explained</td>\n",
              "      <td>['Restaurants', 'Noma (Copenhagen, Restaurant)...</td>\n",
              "      <td>66</td>\n",
              "      <td>Dining</td>\n",
              "      <td>0</td>\n",
              "      <td>2018-04-24 14:58:44</td>\n",
              "      <td>Unknown</td>\n",
              "      <td>What’s it like to eat at the second incarnatio...</td>\n",
              "      <td>The New York Times</td>\n",
              "      <td>News</td>\n",
              "      <td>https://www.nytimes.com/2018/04/24/dining/noma...</td>\n",
              "    </tr>\n",
              "    <tr>\n",
              "      <th>3</th>\n",
              "      <td>5adf40d2068401528a2aa619</td>\n",
              "      <td>626</td>\n",
              "      <td>By JULIE HIRSCHFELD DAVIS and PETER BAKER</td>\n",
              "      <td>article</td>\n",
              "      <td>Unknown</td>\n",
              "      <td>['Macron, Emmanuel (1977- )', 'Trump, Donald J...</td>\n",
              "      <td>68</td>\n",
              "      <td>Washington</td>\n",
              "      <td>0</td>\n",
              "      <td>2018-04-24 14:35:57</td>\n",
              "      <td>Europe</td>\n",
              "      <td>President Trump welcomed President Emmanuel Ma...</td>\n",
              "      <td>The New York Times</td>\n",
              "      <td>News</td>\n",
              "      <td>https://www.nytimes.com/2018/04/24/world/europ...</td>\n",
              "    </tr>\n",
              "    <tr>\n",
              "      <th>4</th>\n",
              "      <td>5adf3d64068401528a2aa60f</td>\n",
              "      <td>815</td>\n",
              "      <td>By IAN AUSTEN and DAN BILEFSKY</td>\n",
              "      <td>article</td>\n",
              "      <td>Unknown</td>\n",
              "      <td>['Toronto, Ontario, Attack (April, 2018)', 'Mu...</td>\n",
              "      <td>68</td>\n",
              "      <td>Foreign</td>\n",
              "      <td>0</td>\n",
              "      <td>2018-04-24 14:21:21</td>\n",
              "      <td>Canada</td>\n",
              "      <td>Alek Minassian, 25, a resident of Toronto’s Ri...</td>\n",
              "      <td>The New York Times</td>\n",
              "      <td>News</td>\n",
              "      <td>https://www.nytimes.com/2018/04/24/world/canad...</td>\n",
              "    </tr>\n",
              "  </tbody>\n",
              "</table>\n",
              "</div>"
            ],
            "text/plain": [
              "                  articleID  ...                                             webURL\n",
              "0  5adf6684068401528a2aa69b  ...  https://www.nytimes.com/2018/04/24/sports/foot...\n",
              "1  5adf653f068401528a2aa697  ...  https://www.nytimes.com/2018/04/24/climate/epa...\n",
              "2  5adf4626068401528a2aa628  ...  https://www.nytimes.com/2018/04/24/dining/noma...\n",
              "3  5adf40d2068401528a2aa619  ...  https://www.nytimes.com/2018/04/24/world/europ...\n",
              "4  5adf3d64068401528a2aa60f  ...  https://www.nytimes.com/2018/04/24/world/canad...\n",
              "\n",
              "[5 rows x 15 columns]"
            ]
          },
          "metadata": {
            "tags": []
          },
          "execution_count": 69
        }
      ]
    },
    {
      "cell_type": "code",
      "metadata": {
        "colab": {
          "base_uri": "https://localhost:8080/"
        },
        "id": "l3sP8B0yptwq",
        "outputId": "eb0d4827-4461-4fe1-c34f-995428939d24"
      },
      "source": [
        "print('열의 갯수 : ', len(df.columns))\n",
        "print(df.columns)"
      ],
      "execution_count": 74,
      "outputs": [
        {
          "output_type": "stream",
          "text": [
            "열의 갯수 :  15\n",
            "Index(['articleID', 'articleWordCount', 'byline', 'documentType', 'headline',\n",
            "       'keywords', 'multimedia', 'newDesk', 'printPage', 'pubDate',\n",
            "       'sectionName', 'snippet', 'source', 'typeOfMaterial', 'webURL'],\n",
            "      dtype='object')\n"
          ],
          "name": "stdout"
        }
      ]
    },
    {
      "cell_type": "code",
      "metadata": {
        "colab": {
          "base_uri": "https://localhost:8080/"
        },
        "id": "YqiOjFpkp1m2",
        "outputId": "32b2a80a-771c-4d6b-beed-491afa1b464d"
      },
      "source": [
        "# NULL 이 있는지 확인\n",
        "print(df.isnull().sum())\n",
        "print()\n",
        "print(df['headline'].isnull().values.any())"
      ],
      "execution_count": 88,
      "outputs": [
        {
          "output_type": "stream",
          "text": [
            "articleID           0\n",
            "articleWordCount    0\n",
            "byline              0\n",
            "documentType        0\n",
            "headline            0\n",
            "keywords            0\n",
            "multimedia          0\n",
            "newDesk             0\n",
            "printPage           0\n",
            "pubDate             0\n",
            "sectionName         0\n",
            "snippet             0\n",
            "source              0\n",
            "typeOfMaterial      0\n",
            "webURL              0\n",
            "dtype: int64\n",
            "\n",
            "False\n"
          ],
          "name": "stdout"
        }
      ]
    },
    {
      "cell_type": "code",
      "metadata": {
        "id": "7X5WX9NaqCWt"
      },
      "source": [
        "# headline 열에서 모든 신문 기사의 제목을 뽑아서 하나의 리스트로 저장하자\n",
        "headline = []\n",
        "headline.extend(list(df.headline.values)) # 헤드라인의 값들을 리스트로 저장"
      ],
      "execution_count": 98,
      "outputs": []
    },
    {
      "cell_type": "code",
      "metadata": {
        "colab": {
          "base_uri": "https://localhost:8080/"
        },
        "id": "d_EgTz1FqHwm",
        "outputId": "b2f4a292-1436-4a93-ab52-4a01c0e3985f"
      },
      "source": [
        "# 상위 5개만 출력\n",
        "headline[:5]"
      ],
      "execution_count": 99,
      "outputs": [
        {
          "output_type": "execute_result",
          "data": {
            "text/plain": [
              "['Former N.F.L. Cheerleaders’ Settlement Offer: $1 and a Meeting With Goodell',\n",
              " 'E.P.A. to Unveil a New Rule. Its Effect: Less Science in Policymaking.',\n",
              " 'The New Noma, Explained',\n",
              " 'Unknown',\n",
              " 'Unknown']"
            ]
          },
          "metadata": {
            "tags": []
          },
          "execution_count": 99
        }
      ]
    },
    {
      "cell_type": "code",
      "metadata": {
        "colab": {
          "base_uri": "https://localhost:8080/"
        },
        "id": "YOWwZiMurQYX",
        "outputId": "53e8370f-03d1-4b5a-a4ea-637f6a125700"
      },
      "source": [
        "# 총 샘플의 개수\n",
        "print('총 샘플의 개수 : {}'.format(len(headline)))"
      ],
      "execution_count": 100,
      "outputs": [
        {
          "output_type": "stream",
          "text": [
            "총 샘플의 개수 : 1324\n"
          ],
          "name": "stdout"
        }
      ]
    },
    {
      "cell_type": "code",
      "metadata": {
        "id": "rjbWOoO-rcEo"
      },
      "source": [
        "# unknown 값을 가진 샘플 제거\n",
        "# 제거 후 샘플의 갯수 출력\n",
        "\n",
        "headline = [item for item in headline if item != 'Unknown']"
      ],
      "execution_count": 101,
      "outputs": []
    },
    {
      "cell_type": "code",
      "metadata": {
        "colab": {
          "base_uri": "https://localhost:8080/"
        },
        "id": "gxHMCsKcsEuA",
        "outputId": "09e961ec-1b7f-4cbb-bbf0-65c5fd3cf616"
      },
      "source": [
        "# 상위 5개만 출력\n",
        "headline[:5]\n"
      ],
      "execution_count": 104,
      "outputs": [
        {
          "output_type": "execute_result",
          "data": {
            "text/plain": [
              "['Former N.F.L. Cheerleaders’ Settlement Offer: $1 and a Meeting With Goodell',\n",
              " 'E.P.A. to Unveil a New Rule. Its Effect: Less Science in Policymaking.',\n",
              " 'The New Noma, Explained',\n",
              " 'How a Bag of Texas Dirt  Became a Times Tradition',\n",
              " 'Is School a Place for Self-Expression?']"
            ]
          },
          "metadata": {
            "tags": []
          },
          "execution_count": 104
        }
      ]
    },
    {
      "cell_type": "code",
      "metadata": {
        "colab": {
          "base_uri": "https://localhost:8080/"
        },
        "id": "bULqF_c4sPAF",
        "outputId": "755fb2cb-b8c1-409a-c238-c426ae536a29"
      },
      "source": [
        "\n",
        "# unknown 제거한 샘플의 개수\n",
        "print('unknown 제거한 샘플의 개수 : {}'.format(len(headline)))"
      ],
      "execution_count": 103,
      "outputs": [
        {
          "output_type": "stream",
          "text": [
            "unknown 제거한 샘플의 개수 : 1214\n"
          ],
          "name": "stdout"
        }
      ]
    },
    {
      "cell_type": "code",
      "metadata": {
        "colab": {
          "base_uri": "https://localhost:8080/"
        },
        "id": "V82njadXseE8",
        "outputId": "38058721-09a6-4eee-e68d-5dc7e2e03281"
      },
      "source": [
        "def repreprocessing(s):\n",
        "  s = s.encode(\"utf8\").decode(\"ascii\",'ignore')\n",
        "  return ''.join(c for c in s if c not in punctuation).lower() # 구두점 제거와 동시에 소문자화\n",
        "\n",
        "text = [repreprocessing(x) for x in headline]\n",
        "text[:5]"
      ],
      "execution_count": 105,
      "outputs": [
        {
          "output_type": "execute_result",
          "data": {
            "text/plain": [
              "['former nfl cheerleaders settlement offer 1 and a meeting with goodell',\n",
              " 'epa to unveil a new rule its effect less science in policymaking',\n",
              " 'the new noma explained',\n",
              " 'how a bag of texas dirt  became a times tradition',\n",
              " 'is school a place for selfexpression']"
            ]
          },
          "metadata": {
            "tags": []
          },
          "execution_count": 105
        }
      ]
    },
    {
      "cell_type": "code",
      "metadata": {
        "colab": {
          "base_uri": "https://localhost:8080/"
        },
        "id": "8HPUVKPTtOgP",
        "outputId": "fb25b620-9cf6-4db4-afde-8726cfd23d3a"
      },
      "source": [
        "t= Tokenizer()\n",
        "t.fit_on_texts(text)\n",
        "vocab_size = len(t.word_index) + 1\n",
        "print('단어 집합의 크기 : %d' % vocab_size)"
      ],
      "execution_count": 109,
      "outputs": [
        {
          "output_type": "stream",
          "text": [
            "단어 집합의 크기 : 3494\n"
          ],
          "name": "stdout"
        }
      ]
    },
    {
      "cell_type": "code",
      "metadata": {
        "id": "4GhFXRI4ttX8"
      },
      "source": [
        "sequences = list()"
      ],
      "execution_count": 108,
      "outputs": []
    },
    {
      "cell_type": "code",
      "metadata": {
        "colab": {
          "base_uri": "https://localhost:8080/"
        },
        "id": "w2y77lNLt4O5",
        "outputId": "23d68efe-f2ee-4793-877a-0f19c5eb4a82"
      },
      "source": [
        "for line in text:\n",
        "  encoded = t.texts_to_sequences([line])[0] #각 샘플에 대한 정수 인코딩\n",
        "  for i in range(1, len(encoded)):\n",
        "    sequence = encoded[:i+1]\n",
        "    sequences.append(sequence)\n",
        "    \n",
        "sequences[:11]"
      ],
      "execution_count": 110,
      "outputs": [
        {
          "output_type": "execute_result",
          "data": {
            "text/plain": [
              "[[99, 269],\n",
              " [99, 269, 371],\n",
              " [99, 269, 371, 1115],\n",
              " [99, 269, 371, 1115, 582],\n",
              " [99, 269, 371, 1115, 582, 52],\n",
              " [99, 269, 371, 1115, 582, 52, 7],\n",
              " [99, 269, 371, 1115, 582, 52, 7, 2],\n",
              " [99, 269, 371, 1115, 582, 52, 7, 2, 372],\n",
              " [99, 269, 371, 1115, 582, 52, 7, 2, 372, 10],\n",
              " [99, 269, 371, 1115, 582, 52, 7, 2, 372, 10, 1116],\n",
              " [100, 3]]"
            ]
          },
          "metadata": {
            "tags": []
          },
          "execution_count": 110
        }
      ]
    },
    {
      "cell_type": "code",
      "metadata": {
        "colab": {
          "base_uri": "https://localhost:8080/"
        },
        "id": "lCYo8Ck8uJS6",
        "outputId": "85e27e2b-6c79-4c85-996b-f1e97e7da9b2"
      },
      "source": [
        "index_to_word = {}\n",
        "\n",
        "for key, value in t.word_index.items(): \n",
        "  index_to_word[value] = key\n",
        "\n",
        "print('빈도수 상위 582번 단어 : {}'.format(index_to_word[50]))"
      ],
      "execution_count": 117,
      "outputs": [
        {
          "output_type": "stream",
          "text": [
            "빈도수 상위 582번 단어 : recap\n"
          ],
          "name": "stdout"
        }
      ]
    },
    {
      "cell_type": "code",
      "metadata": {
        "colab": {
          "base_uri": "https://localhost:8080/"
        },
        "id": "3GnR_HILvDo0",
        "outputId": "426d588c-20ae-414e-974b-dbf246b4f6ef"
      },
      "source": [
        "max_len = max(len(i) for i in sequences)\n",
        "print('샘플의 최대 길이 : {}'.format(max_len))"
      ],
      "execution_count": 118,
      "outputs": [
        {
          "output_type": "stream",
          "text": [
            "샘플의 최대 길이 : 24\n"
          ],
          "name": "stdout"
        }
      ]
    },
    {
      "cell_type": "code",
      "metadata": {
        "colab": {
          "base_uri": "https://localhost:8080/"
        },
        "id": "9et3SdSIvZNH",
        "outputId": "42907df3-1371-4d0a-b761-e2b7f190ba6b"
      },
      "source": [
        "sequences = pad_sequences(sequences, maxlen=max_len, padding='pre')\n",
        "print(sequences[:3])"
      ],
      "execution_count": 119,
      "outputs": [
        {
          "output_type": "stream",
          "text": [
            "[[   0    0    0    0    0    0    0    0    0    0    0    0    0    0\n",
            "     0    0    0    0    0    0    0    0   99  269]\n",
            " [   0    0    0    0    0    0    0    0    0    0    0    0    0    0\n",
            "     0    0    0    0    0    0    0   99  269  371]\n",
            " [   0    0    0    0    0    0    0    0    0    0    0    0    0    0\n",
            "     0    0    0    0    0    0   99  269  371 1115]]\n"
          ],
          "name": "stdout"
        }
      ]
    },
    {
      "cell_type": "code",
      "metadata": {
        "id": "OZoqcmM9vn7X"
      },
      "source": [
        "sequences = np.array(sequences)\n",
        "x = sequences[:, :-1]\n",
        "y = sequences[:, -1]"
      ],
      "execution_count": 120,
      "outputs": []
    },
    {
      "cell_type": "code",
      "metadata": {
        "colab": {
          "base_uri": "https://localhost:8080/"
        },
        "id": "X8ba1xBnv4ic",
        "outputId": "c2e96f52-7825-478d-f977-56cd40c27387"
      },
      "source": [
        "print(x)"
      ],
      "execution_count": 121,
      "outputs": [
        {
          "output_type": "stream",
          "text": [
            "[[   0    0    0 ...    0    0   99]\n",
            " [   0    0    0 ...    0   99  269]\n",
            " [   0    0    0 ...   99  269  371]\n",
            " ...\n",
            " [   0    0    0 ...  170    8 3493]\n",
            " [   0    0    0 ...    8 3493  115]\n",
            " [   0    0    0 ... 3493  115    2]]\n"
          ],
          "name": "stdout"
        }
      ]
    },
    {
      "cell_type": "code",
      "metadata": {
        "colab": {
          "base_uri": "https://localhost:8080/"
        },
        "id": "5owGWVc3v5uA",
        "outputId": "a970dca5-f978-4985-8cd8-70ded35ad54e"
      },
      "source": [
        "print(y)"
      ],
      "execution_count": 122,
      "outputs": [
        {
          "output_type": "stream",
          "text": [
            "[ 269  371 1115 ...  115    2 1025]\n"
          ],
          "name": "stdout"
        }
      ]
    },
    {
      "cell_type": "code",
      "metadata": {
        "id": "ZrRm_aIQv891"
      },
      "source": [
        "y = to_categorical(y, num_classes=vocab_size)"
      ],
      "execution_count": 123,
      "outputs": []
    },
    {
      "cell_type": "code",
      "metadata": {
        "colab": {
          "base_uri": "https://localhost:8080/"
        },
        "id": "hWJHuzo9wqRe",
        "outputId": "b3f64dbc-cf8b-4e9b-86eb-b2775895c3a6"
      },
      "source": [
        "print(y)"
      ],
      "execution_count": 124,
      "outputs": [
        {
          "output_type": "stream",
          "text": [
            "[[0. 0. 0. ... 0. 0. 0.]\n",
            " [0. 0. 0. ... 0. 0. 0.]\n",
            " [0. 0. 0. ... 0. 0. 0.]\n",
            " ...\n",
            " [0. 0. 0. ... 0. 0. 0.]\n",
            " [0. 0. 1. ... 0. 0. 0.]\n",
            " [0. 0. 0. ... 0. 0. 0.]]\n"
          ],
          "name": "stdout"
        }
      ]
    },
    {
      "cell_type": "markdown",
      "metadata": {
        "id": "UVS2sCD3wb2l"
      },
      "source": [
        "### 모델 설계"
      ]
    },
    {
      "cell_type": "code",
      "metadata": {
        "id": "4aNXLLEFwbn2"
      },
      "source": [
        "from tensorflow.keras.models import Sequential\n",
        "from tensorflow.keras.layers import Embedding, Dense, LSTM"
      ],
      "execution_count": 125,
      "outputs": []
    },
    {
      "cell_type": "code",
      "metadata": {
        "colab": {
          "base_uri": "https://localhost:8080/"
        },
        "id": "XjHEqpeAwu6m",
        "outputId": "5b0528a5-21c8-437a-e9f7-dfdcbf6dd4e4"
      },
      "source": [
        "# 한 30분 걸림\n",
        "\n",
        "model = Sequential()\n",
        "model.add(Embedding(vocab_size, 10, input_length=max_len-1))\n",
        "model.add(LSTM(128))\n",
        "model.add(Dense(vocab_size, activation='softmax'))\n",
        "model.compile(loss='categorical_crossentropy', optimizer='adam', metrics=['accuracy'])\n",
        "model.fit(x,y, epochs = 200, verbose=2)"
      ],
      "execution_count": 126,
      "outputs": [
        {
          "output_type": "stream",
          "text": [
            "Epoch 1/200\n",
            "244/244 - 11s - loss: 7.6563 - accuracy: 0.0290\n",
            "Epoch 2/200\n",
            "244/244 - 8s - loss: 7.1144 - accuracy: 0.0291\n",
            "Epoch 3/200\n",
            "244/244 - 8s - loss: 6.9743 - accuracy: 0.0343\n",
            "Epoch 4/200\n",
            "244/244 - 8s - loss: 6.8465 - accuracy: 0.0409\n",
            "Epoch 5/200\n",
            "244/244 - 8s - loss: 6.6917 - accuracy: 0.0456\n",
            "Epoch 6/200\n",
            "244/244 - 8s - loss: 6.5200 - accuracy: 0.0490\n",
            "Epoch 7/200\n",
            "244/244 - 8s - loss: 6.3240 - accuracy: 0.0525\n",
            "Epoch 8/200\n",
            "244/244 - 8s - loss: 6.1236 - accuracy: 0.0606\n",
            "Epoch 9/200\n",
            "244/244 - 8s - loss: 5.9259 - accuracy: 0.0595\n",
            "Epoch 10/200\n",
            "244/244 - 8s - loss: 5.7439 - accuracy: 0.0698\n",
            "Epoch 11/200\n",
            "244/244 - 8s - loss: 5.5745 - accuracy: 0.0706\n",
            "Epoch 12/200\n",
            "244/244 - 8s - loss: 5.4147 - accuracy: 0.0752\n",
            "Epoch 13/200\n",
            "244/244 - 8s - loss: 5.2621 - accuracy: 0.0810\n",
            "Epoch 14/200\n",
            "244/244 - 8s - loss: 5.1161 - accuracy: 0.0869\n",
            "Epoch 15/200\n",
            "244/244 - 8s - loss: 4.9772 - accuracy: 0.0930\n",
            "Epoch 16/200\n",
            "244/244 - 8s - loss: 4.8419 - accuracy: 0.1069\n",
            "Epoch 17/200\n",
            "244/244 - 8s - loss: 4.7113 - accuracy: 0.1135\n",
            "Epoch 18/200\n",
            "244/244 - 8s - loss: 4.5863 - accuracy: 0.1252\n",
            "Epoch 19/200\n",
            "244/244 - 8s - loss: 4.4634 - accuracy: 0.1444\n",
            "Epoch 20/200\n",
            "244/244 - 8s - loss: 4.3439 - accuracy: 0.1585\n",
            "Epoch 21/200\n",
            "244/244 - 8s - loss: 4.2278 - accuracy: 0.1737\n",
            "Epoch 22/200\n",
            "244/244 - 8s - loss: 4.1144 - accuracy: 0.1929\n",
            "Epoch 23/200\n",
            "244/244 - 8s - loss: 4.0073 - accuracy: 0.2106\n",
            "Epoch 24/200\n",
            "244/244 - 8s - loss: 3.9006 - accuracy: 0.2236\n",
            "Epoch 25/200\n",
            "244/244 - 8s - loss: 3.7960 - accuracy: 0.2430\n",
            "Epoch 26/200\n",
            "244/244 - 8s - loss: 3.6955 - accuracy: 0.2553\n",
            "Epoch 27/200\n",
            "244/244 - 8s - loss: 3.5992 - accuracy: 0.2790\n",
            "Epoch 28/200\n",
            "244/244 - 8s - loss: 3.5061 - accuracy: 0.2922\n",
            "Epoch 29/200\n",
            "244/244 - 8s - loss: 3.4171 - accuracy: 0.3121\n",
            "Epoch 30/200\n",
            "244/244 - 8s - loss: 3.3263 - accuracy: 0.3297\n",
            "Epoch 31/200\n",
            "244/244 - 8s - loss: 3.2455 - accuracy: 0.3477\n",
            "Epoch 32/200\n",
            "244/244 - 8s - loss: 3.1639 - accuracy: 0.3565\n",
            "Epoch 33/200\n",
            "244/244 - 8s - loss: 3.0845 - accuracy: 0.3737\n",
            "Epoch 34/200\n",
            "244/244 - 8s - loss: 3.0085 - accuracy: 0.3801\n",
            "Epoch 35/200\n",
            "244/244 - 8s - loss: 2.9365 - accuracy: 0.3987\n",
            "Epoch 36/200\n",
            "244/244 - 8s - loss: 2.8658 - accuracy: 0.4123\n",
            "Epoch 37/200\n",
            "244/244 - 8s - loss: 2.7986 - accuracy: 0.4256\n",
            "Epoch 38/200\n",
            "244/244 - 8s - loss: 2.7325 - accuracy: 0.4383\n",
            "Epoch 39/200\n",
            "244/244 - 8s - loss: 2.6672 - accuracy: 0.4523\n",
            "Epoch 40/200\n",
            "244/244 - 8s - loss: 2.6075 - accuracy: 0.4617\n",
            "Epoch 41/200\n",
            "244/244 - 8s - loss: 2.5478 - accuracy: 0.4724\n",
            "Epoch 42/200\n",
            "244/244 - 8s - loss: 2.4895 - accuracy: 0.4823\n",
            "Epoch 43/200\n",
            "244/244 - 8s - loss: 2.4352 - accuracy: 0.4938\n",
            "Epoch 44/200\n",
            "244/244 - 8s - loss: 2.3784 - accuracy: 0.5010\n",
            "Epoch 45/200\n",
            "244/244 - 8s - loss: 2.3259 - accuracy: 0.5184\n",
            "Epoch 46/200\n",
            "244/244 - 8s - loss: 2.2725 - accuracy: 0.5309\n",
            "Epoch 47/200\n",
            "244/244 - 8s - loss: 2.2234 - accuracy: 0.5444\n",
            "Epoch 48/200\n",
            "244/244 - 8s - loss: 2.1742 - accuracy: 0.5529\n",
            "Epoch 49/200\n",
            "244/244 - 8s - loss: 2.1244 - accuracy: 0.5617\n",
            "Epoch 50/200\n",
            "244/244 - 8s - loss: 2.0789 - accuracy: 0.5718\n",
            "Epoch 51/200\n",
            "244/244 - 8s - loss: 2.0324 - accuracy: 0.5822\n",
            "Epoch 52/200\n",
            "244/244 - 8s - loss: 1.9859 - accuracy: 0.5909\n",
            "Epoch 53/200\n",
            "244/244 - 8s - loss: 1.9414 - accuracy: 0.5993\n",
            "Epoch 54/200\n",
            "244/244 - 8s - loss: 1.8961 - accuracy: 0.6119\n",
            "Epoch 55/200\n",
            "244/244 - 8s - loss: 1.8565 - accuracy: 0.6219\n",
            "Epoch 56/200\n",
            "244/244 - 8s - loss: 1.8129 - accuracy: 0.6331\n",
            "Epoch 57/200\n",
            "244/244 - 8s - loss: 1.7727 - accuracy: 0.6396\n",
            "Epoch 58/200\n",
            "244/244 - 8s - loss: 1.7344 - accuracy: 0.6476\n",
            "Epoch 59/200\n",
            "244/244 - 8s - loss: 1.6939 - accuracy: 0.6585\n",
            "Epoch 60/200\n",
            "244/244 - 8s - loss: 1.6559 - accuracy: 0.6650\n",
            "Epoch 61/200\n",
            "244/244 - 8s - loss: 1.6195 - accuracy: 0.6764\n",
            "Epoch 62/200\n",
            "244/244 - 8s - loss: 1.5815 - accuracy: 0.6803\n",
            "Epoch 63/200\n",
            "244/244 - 8s - loss: 1.5457 - accuracy: 0.6919\n",
            "Epoch 64/200\n",
            "244/244 - 8s - loss: 1.5119 - accuracy: 0.6974\n",
            "Epoch 65/200\n",
            "244/244 - 8s - loss: 1.4774 - accuracy: 0.7058\n",
            "Epoch 66/200\n",
            "244/244 - 8s - loss: 1.4430 - accuracy: 0.7137\n",
            "Epoch 67/200\n",
            "244/244 - 8s - loss: 1.4120 - accuracy: 0.7199\n",
            "Epoch 68/200\n",
            "244/244 - 8s - loss: 1.3788 - accuracy: 0.7275\n",
            "Epoch 69/200\n",
            "244/244 - 8s - loss: 1.3454 - accuracy: 0.7346\n",
            "Epoch 70/200\n",
            "244/244 - 8s - loss: 1.3140 - accuracy: 0.7416\n",
            "Epoch 71/200\n",
            "244/244 - 8s - loss: 1.2838 - accuracy: 0.7504\n",
            "Epoch 72/200\n",
            "244/244 - 8s - loss: 1.2561 - accuracy: 0.7566\n",
            "Epoch 73/200\n",
            "244/244 - 8s - loss: 1.2262 - accuracy: 0.7596\n",
            "Epoch 74/200\n",
            "244/244 - 8s - loss: 1.2004 - accuracy: 0.7703\n",
            "Epoch 75/200\n",
            "244/244 - 8s - loss: 1.1725 - accuracy: 0.7714\n",
            "Epoch 76/200\n",
            "244/244 - 8s - loss: 1.1439 - accuracy: 0.7780\n",
            "Epoch 77/200\n",
            "244/244 - 8s - loss: 1.1194 - accuracy: 0.7818\n",
            "Epoch 78/200\n",
            "244/244 - 8s - loss: 1.0953 - accuracy: 0.7869\n",
            "Epoch 79/200\n",
            "244/244 - 8s - loss: 1.0691 - accuracy: 0.7919\n",
            "Epoch 80/200\n",
            "244/244 - 8s - loss: 1.0461 - accuracy: 0.7970\n",
            "Epoch 81/200\n",
            "244/244 - 8s - loss: 1.0199 - accuracy: 0.7988\n",
            "Epoch 82/200\n",
            "244/244 - 8s - loss: 0.9983 - accuracy: 0.8038\n",
            "Epoch 83/200\n",
            "244/244 - 8s - loss: 0.9769 - accuracy: 0.8088\n",
            "Epoch 84/200\n",
            "244/244 - 8s - loss: 0.9521 - accuracy: 0.8152\n",
            "Epoch 85/200\n",
            "244/244 - 8s - loss: 0.9317 - accuracy: 0.8205\n",
            "Epoch 86/200\n",
            "244/244 - 8s - loss: 0.9095 - accuracy: 0.8210\n",
            "Epoch 87/200\n",
            "244/244 - 8s - loss: 0.8923 - accuracy: 0.8261\n",
            "Epoch 88/200\n",
            "244/244 - 8s - loss: 0.8721 - accuracy: 0.8274\n",
            "Epoch 89/200\n",
            "244/244 - 8s - loss: 0.8531 - accuracy: 0.8330\n",
            "Epoch 90/200\n",
            "244/244 - 8s - loss: 0.8317 - accuracy: 0.8378\n",
            "Epoch 91/200\n",
            "244/244 - 8s - loss: 0.8144 - accuracy: 0.8398\n",
            "Epoch 92/200\n",
            "244/244 - 8s - loss: 0.7953 - accuracy: 0.8462\n",
            "Epoch 93/200\n",
            "244/244 - 8s - loss: 0.7787 - accuracy: 0.8498\n",
            "Epoch 94/200\n",
            "244/244 - 8s - loss: 0.7649 - accuracy: 0.8511\n",
            "Epoch 95/200\n",
            "244/244 - 8s - loss: 0.7467 - accuracy: 0.8538\n",
            "Epoch 96/200\n",
            "244/244 - 8s - loss: 0.7303 - accuracy: 0.8560\n",
            "Epoch 97/200\n",
            "244/244 - 8s - loss: 0.7153 - accuracy: 0.8590\n",
            "Epoch 98/200\n",
            "244/244 - 8s - loss: 0.7013 - accuracy: 0.8639\n",
            "Epoch 99/200\n",
            "244/244 - 8s - loss: 0.6833 - accuracy: 0.8671\n",
            "Epoch 100/200\n",
            "244/244 - 8s - loss: 0.6697 - accuracy: 0.8694\n",
            "Epoch 101/200\n",
            "244/244 - 8s - loss: 0.6552 - accuracy: 0.8711\n",
            "Epoch 102/200\n",
            "244/244 - 8s - loss: 0.6427 - accuracy: 0.8772\n",
            "Epoch 103/200\n",
            "244/244 - 8s - loss: 0.6266 - accuracy: 0.8765\n",
            "Epoch 104/200\n",
            "244/244 - 8s - loss: 0.6141 - accuracy: 0.8791\n",
            "Epoch 105/200\n",
            "244/244 - 8s - loss: 0.6006 - accuracy: 0.8833\n",
            "Epoch 106/200\n",
            "244/244 - 8s - loss: 0.5895 - accuracy: 0.8848\n",
            "Epoch 107/200\n",
            "244/244 - 8s - loss: 0.5763 - accuracy: 0.8858\n",
            "Epoch 108/200\n",
            "244/244 - 8s - loss: 0.5662 - accuracy: 0.8870\n",
            "Epoch 109/200\n",
            "244/244 - 8s - loss: 0.5530 - accuracy: 0.8927\n",
            "Epoch 110/200\n",
            "244/244 - 8s - loss: 0.5417 - accuracy: 0.8902\n",
            "Epoch 111/200\n",
            "244/244 - 8s - loss: 0.5328 - accuracy: 0.8939\n",
            "Epoch 112/200\n",
            "244/244 - 8s - loss: 0.5256 - accuracy: 0.8953\n",
            "Epoch 113/200\n",
            "244/244 - 8s - loss: 0.5125 - accuracy: 0.8971\n",
            "Epoch 114/200\n",
            "244/244 - 8s - loss: 0.4997 - accuracy: 0.8990\n",
            "Epoch 115/200\n",
            "244/244 - 8s - loss: 0.4909 - accuracy: 0.8971\n",
            "Epoch 116/200\n",
            "244/244 - 8s - loss: 0.4831 - accuracy: 0.9016\n",
            "Epoch 117/200\n",
            "244/244 - 8s - loss: 0.4745 - accuracy: 0.9021\n",
            "Epoch 118/200\n",
            "244/244 - 8s - loss: 0.4649 - accuracy: 0.9022\n",
            "Epoch 119/200\n",
            "244/244 - 8s - loss: 0.4588 - accuracy: 0.9047\n",
            "Epoch 120/200\n",
            "244/244 - 8s - loss: 0.4492 - accuracy: 0.9050\n",
            "Epoch 121/200\n",
            "244/244 - 8s - loss: 0.4417 - accuracy: 0.9045\n",
            "Epoch 122/200\n",
            "244/244 - 8s - loss: 0.4331 - accuracy: 0.9055\n",
            "Epoch 123/200\n",
            "244/244 - 8s - loss: 0.4265 - accuracy: 0.9063\n",
            "Epoch 124/200\n",
            "244/244 - 8s - loss: 0.4260 - accuracy: 0.9066\n",
            "Epoch 125/200\n",
            "244/244 - 8s - loss: 0.4123 - accuracy: 0.9086\n",
            "Epoch 126/200\n",
            "244/244 - 8s - loss: 0.4082 - accuracy: 0.9080\n",
            "Epoch 127/200\n",
            "244/244 - 8s - loss: 0.4016 - accuracy: 0.9093\n",
            "Epoch 128/200\n",
            "244/244 - 8s - loss: 0.3952 - accuracy: 0.9111\n",
            "Epoch 129/200\n",
            "244/244 - 8s - loss: 0.3893 - accuracy: 0.9118\n",
            "Epoch 130/200\n",
            "244/244 - 8s - loss: 0.3889 - accuracy: 0.9113\n",
            "Epoch 131/200\n",
            "244/244 - 8s - loss: 0.3794 - accuracy: 0.9112\n",
            "Epoch 132/200\n",
            "244/244 - 8s - loss: 0.3717 - accuracy: 0.9112\n",
            "Epoch 133/200\n",
            "244/244 - 8s - loss: 0.3663 - accuracy: 0.9123\n",
            "Epoch 134/200\n",
            "244/244 - 8s - loss: 0.3639 - accuracy: 0.9118\n",
            "Epoch 135/200\n",
            "244/244 - 8s - loss: 0.3593 - accuracy: 0.9141\n",
            "Epoch 136/200\n",
            "244/244 - 8s - loss: 0.3657 - accuracy: 0.9117\n",
            "Epoch 137/200\n",
            "244/244 - 8s - loss: 0.3644 - accuracy: 0.9134\n",
            "Epoch 138/200\n",
            "244/244 - 8s - loss: 0.3521 - accuracy: 0.9126\n",
            "Epoch 139/200\n",
            "244/244 - 8s - loss: 0.3420 - accuracy: 0.9139\n",
            "Epoch 140/200\n",
            "244/244 - 8s - loss: 0.3382 - accuracy: 0.9171\n",
            "Epoch 141/200\n",
            "244/244 - 8s - loss: 0.3358 - accuracy: 0.9144\n",
            "Epoch 142/200\n",
            "244/244 - 8s - loss: 0.3333 - accuracy: 0.9154\n",
            "Epoch 143/200\n",
            "244/244 - 8s - loss: 0.3297 - accuracy: 0.9152\n",
            "Epoch 144/200\n",
            "244/244 - 8s - loss: 0.3257 - accuracy: 0.9146\n",
            "Epoch 145/200\n",
            "244/244 - 8s - loss: 0.3263 - accuracy: 0.9157\n",
            "Epoch 146/200\n",
            "244/244 - 8s - loss: 0.3210 - accuracy: 0.9168\n",
            "Epoch 147/200\n",
            "244/244 - 8s - loss: 0.3188 - accuracy: 0.9155\n",
            "Epoch 148/200\n",
            "244/244 - 8s - loss: 0.3169 - accuracy: 0.9164\n",
            "Epoch 149/200\n",
            "244/244 - 8s - loss: 0.3142 - accuracy: 0.9176\n",
            "Epoch 150/200\n",
            "244/244 - 8s - loss: 0.3120 - accuracy: 0.9162\n",
            "Epoch 151/200\n",
            "244/244 - 8s - loss: 0.3095 - accuracy: 0.9159\n",
            "Epoch 152/200\n",
            "244/244 - 8s - loss: 0.3071 - accuracy: 0.9158\n",
            "Epoch 153/200\n",
            "244/244 - 8s - loss: 0.3045 - accuracy: 0.9155\n",
            "Epoch 154/200\n",
            "244/244 - 8s - loss: 0.3028 - accuracy: 0.9167\n",
            "Epoch 155/200\n",
            "244/244 - 8s - loss: 0.3062 - accuracy: 0.9143\n",
            "Epoch 156/200\n",
            "244/244 - 8s - loss: 0.3360 - accuracy: 0.9107\n",
            "Epoch 157/200\n",
            "244/244 - 8s - loss: 0.3120 - accuracy: 0.9153\n",
            "Epoch 158/200\n",
            "244/244 - 8s - loss: 0.2974 - accuracy: 0.9148\n",
            "Epoch 159/200\n",
            "244/244 - 8s - loss: 0.2926 - accuracy: 0.9172\n",
            "Epoch 160/200\n",
            "244/244 - 8s - loss: 0.2910 - accuracy: 0.9164\n",
            "Epoch 161/200\n",
            "244/244 - 8s - loss: 0.2901 - accuracy: 0.9163\n",
            "Epoch 162/200\n",
            "244/244 - 8s - loss: 0.2885 - accuracy: 0.9176\n",
            "Epoch 163/200\n",
            "244/244 - 8s - loss: 0.2881 - accuracy: 0.9153\n",
            "Epoch 164/200\n",
            "244/244 - 8s - loss: 0.2875 - accuracy: 0.9159\n",
            "Epoch 165/200\n",
            "244/244 - 8s - loss: 0.2875 - accuracy: 0.9161\n",
            "Epoch 166/200\n",
            "244/244 - 8s - loss: 0.2861 - accuracy: 0.9159\n",
            "Epoch 167/200\n",
            "244/244 - 8s - loss: 0.2831 - accuracy: 0.9176\n",
            "Epoch 168/200\n",
            "244/244 - 8s - loss: 0.2834 - accuracy: 0.9149\n",
            "Epoch 169/200\n",
            "244/244 - 8s - loss: 0.2814 - accuracy: 0.9171\n",
            "Epoch 170/200\n",
            "244/244 - 8s - loss: 0.2811 - accuracy: 0.9170\n",
            "Epoch 171/200\n",
            "244/244 - 8s - loss: 0.2810 - accuracy: 0.9162\n",
            "Epoch 172/200\n",
            "244/244 - 8s - loss: 0.2812 - accuracy: 0.9158\n",
            "Epoch 173/200\n",
            "244/244 - 8s - loss: 0.2818 - accuracy: 0.9158\n",
            "Epoch 174/200\n",
            "244/244 - 8s - loss: 0.2950 - accuracy: 0.9145\n",
            "Epoch 175/200\n",
            "244/244 - 8s - loss: 0.2903 - accuracy: 0.9152\n",
            "Epoch 176/200\n",
            "244/244 - 8s - loss: 0.2769 - accuracy: 0.9181\n",
            "Epoch 177/200\n",
            "244/244 - 8s - loss: 0.2749 - accuracy: 0.9168\n",
            "Epoch 178/200\n",
            "244/244 - 8s - loss: 0.2735 - accuracy: 0.9173\n",
            "Epoch 179/200\n",
            "244/244 - 8s - loss: 0.2737 - accuracy: 0.9154\n",
            "Epoch 180/200\n",
            "244/244 - 8s - loss: 0.2721 - accuracy: 0.9164\n",
            "Epoch 181/200\n",
            "244/244 - 8s - loss: 0.2703 - accuracy: 0.9179\n",
            "Epoch 182/200\n",
            "244/244 - 8s - loss: 0.2703 - accuracy: 0.9164\n",
            "Epoch 183/200\n",
            "244/244 - 8s - loss: 0.2708 - accuracy: 0.9161\n",
            "Epoch 184/200\n",
            "244/244 - 8s - loss: 0.2695 - accuracy: 0.9157\n",
            "Epoch 185/200\n",
            "244/244 - 8s - loss: 0.2708 - accuracy: 0.9164\n",
            "Epoch 186/200\n",
            "244/244 - 8s - loss: 0.2720 - accuracy: 0.9162\n",
            "Epoch 187/200\n",
            "244/244 - 8s - loss: 0.2716 - accuracy: 0.9172\n",
            "Epoch 188/200\n",
            "244/244 - 8s - loss: 0.2699 - accuracy: 0.9159\n",
            "Epoch 189/200\n",
            "244/244 - 8s - loss: 0.2683 - accuracy: 0.9153\n",
            "Epoch 190/200\n",
            "244/244 - 8s - loss: 0.2672 - accuracy: 0.9168\n",
            "Epoch 191/200\n",
            "244/244 - 8s - loss: 0.2667 - accuracy: 0.9163\n",
            "Epoch 192/200\n",
            "244/244 - 8s - loss: 0.2667 - accuracy: 0.9154\n",
            "Epoch 193/200\n",
            "244/244 - 8s - loss: 0.2657 - accuracy: 0.9171\n",
            "Epoch 194/200\n",
            "244/244 - 8s - loss: 0.2661 - accuracy: 0.9177\n",
            "Epoch 195/200\n",
            "244/244 - 8s - loss: 0.2644 - accuracy: 0.9166\n",
            "Epoch 196/200\n",
            "244/244 - 8s - loss: 0.2650 - accuracy: 0.9168\n",
            "Epoch 197/200\n",
            "244/244 - 8s - loss: 0.2652 - accuracy: 0.9167\n",
            "Epoch 198/200\n",
            "244/244 - 8s - loss: 0.2646 - accuracy: 0.9159\n",
            "Epoch 199/200\n",
            "244/244 - 8s - loss: 0.2637 - accuracy: 0.9179\n",
            "Epoch 200/200\n",
            "244/244 - 8s - loss: 0.2651 - accuracy: 0.9157\n"
          ],
          "name": "stdout"
        },
        {
          "output_type": "execute_result",
          "data": {
            "text/plain": [
              "<tensorflow.python.keras.callbacks.History at 0x7f888692a250>"
            ]
          },
          "metadata": {
            "tags": []
          },
          "execution_count": 126
        }
      ]
    },
    {
      "cell_type": "code",
      "metadata": {
        "id": "uUgt760sxAxl"
      },
      "source": [
        "# 문장을 생성하는 함수 만들어서 출력하기\n",
        "def sentence_generation(model, t, current_word, n): # 모델, 토크나이저, 현재 단어, 반복할 횟수\n",
        "    init_word = current_word # 처음 들어온 단어도 마지막에 같이 출력하기위해 저장\n",
        "    sentence = ''\n",
        "    for _ in range(n): # n번 반복\n",
        "        encoded = t.texts_to_sequences([current_word])[0] # 현재 단어에 대한 정수 인코딩\n",
        "        encoded = pad_sequences([encoded], maxlen=23, padding='pre') # 데이터에 대한 패딩\n",
        "        result = model.predict_classes(encoded, verbose=0)\n",
        "    # 입력한 X(현재 단어)에 대해서 Y를 예측하고 Y(예측한 단어)를 result에 저장.\n",
        "        for word, index in t.word_index.items(): \n",
        "            if index == result: # 만약 예측한 단어와 인덱스와 동일한 단어가 있다면\n",
        "                break # 해당 단어가 예측 단어이므로 break\n",
        "        current_word = current_word + ' '  + word # 현재 단어 + ' ' + 예측 단어를 현재 단어로 변경\n",
        "        sentence = sentence + ' ' + word # 예측 단어를 문장에 저장\n",
        "    # for문이므로 이 행동을 다시 반복\n",
        "    sentence = init_word + sentence\n",
        "    return sentence"
      ],
      "execution_count": 127,
      "outputs": []
    },
    {
      "cell_type": "code",
      "metadata": {
        "colab": {
          "base_uri": "https://localhost:8080/"
        },
        "id": "A5rnd5583bXl",
        "outputId": "926a979d-4f64-4b5d-aaba-75fcd74647a3"
      },
      "source": [
        "print(sentence_generation(model, t, 'i', 10))"
      ],
      "execution_count": 128,
      "outputs": [
        {
          "output_type": "stream",
          "text": [
            "/usr/local/lib/python3.7/dist-packages/tensorflow/python/keras/engine/sequential.py:455: UserWarning: `model.predict_classes()` is deprecated and will be removed after 2021-01-01. Please use instead:* `np.argmax(model.predict(x), axis=-1)`,   if your model does multi-class classification   (e.g. if it uses a `softmax` last-layer activation).* `(model.predict(x) > 0.5).astype(\"int32\")`,   if your model does binary classification   (e.g. if it uses a `sigmoid` last-layer activation).\n",
            "  warnings.warn('`model.predict_classes()` is deprecated and '\n"
          ],
          "name": "stderr"
        },
        {
          "output_type": "stream",
          "text": [
            "i cant jump ship from facebook yet fostered and stars say\n"
          ],
          "name": "stdout"
        }
      ]
    },
    {
      "cell_type": "code",
      "metadata": {
        "colab": {
          "base_uri": "https://localhost:8080/"
        },
        "id": "f-4aWULT3c3J",
        "outputId": "5aa7841d-c285-4545-f215-895429b994cd"
      },
      "source": [
        "print(sentence_generation(model, t, 'how', 10))"
      ],
      "execution_count": 129,
      "outputs": [
        {
          "output_type": "stream",
          "text": [
            "/usr/local/lib/python3.7/dist-packages/tensorflow/python/keras/engine/sequential.py:455: UserWarning: `model.predict_classes()` is deprecated and will be removed after 2021-01-01. Please use instead:* `np.argmax(model.predict(x), axis=-1)`,   if your model does multi-class classification   (e.g. if it uses a `softmax` last-layer activation).* `(model.predict(x) > 0.5).astype(\"int32\")`,   if your model does binary classification   (e.g. if it uses a `sigmoid` last-layer activation).\n",
            "  warnings.warn('`model.predict_classes()` is deprecated and '\n"
          ],
          "name": "stderr"
        },
        {
          "output_type": "stream",
          "text": [
            "how do you get your nature fix not attitudes died to\n"
          ],
          "name": "stdout"
        }
      ]
    },
    {
      "cell_type": "code",
      "metadata": {
        "colab": {
          "base_uri": "https://localhost:8080/"
        },
        "id": "VeDT6PlG3d-a",
        "outputId": "d5e1d2d4-4b09-4e2b-a008-b2759ac723d4"
      },
      "source": [
        "print(sentence_generation(model, t, 'former', 10)) "
      ],
      "execution_count": 130,
      "outputs": [
        {
          "output_type": "stream",
          "text": [
            "/usr/local/lib/python3.7/dist-packages/tensorflow/python/keras/engine/sequential.py:455: UserWarning: `model.predict_classes()` is deprecated and will be removed after 2021-01-01. Please use instead:* `np.argmax(model.predict(x), axis=-1)`,   if your model does multi-class classification   (e.g. if it uses a `softmax` last-layer activation).* `(model.predict(x) > 0.5).astype(\"int32\")`,   if your model does binary classification   (e.g. if it uses a `sigmoid` last-layer activation).\n",
            "  warnings.warn('`model.predict_classes()` is deprecated and '\n"
          ],
          "name": "stderr"
        },
        {
          "output_type": "stream",
          "text": [
            "former playboy model is free to discuss alleged affair in syria\n"
          ],
          "name": "stdout"
        }
      ]
    },
    {
      "cell_type": "code",
      "metadata": {
        "colab": {
          "base_uri": "https://localhost:8080/"
        },
        "id": "t67efZy23fDF",
        "outputId": "a7721966-d6d4-430c-eb72-32cdb11f71bb"
      },
      "source": [
        "print(sentence_generation(model, t, 'former', 5))"
      ],
      "execution_count": 131,
      "outputs": [
        {
          "output_type": "stream",
          "text": [
            "/usr/local/lib/python3.7/dist-packages/tensorflow/python/keras/engine/sequential.py:455: UserWarning: `model.predict_classes()` is deprecated and will be removed after 2021-01-01. Please use instead:* `np.argmax(model.predict(x), axis=-1)`,   if your model does multi-class classification   (e.g. if it uses a `softmax` last-layer activation).* `(model.predict(x) > 0.5).astype(\"int32\")`,   if your model does binary classification   (e.g. if it uses a `sigmoid` last-layer activation).\n",
            "  warnings.warn('`model.predict_classes()` is deprecated and '\n"
          ],
          "name": "stderr"
        },
        {
          "output_type": "stream",
          "text": [
            "former playboy model is free to\n"
          ],
          "name": "stdout"
        }
      ]
    },
    {
      "cell_type": "code",
      "metadata": {
        "id": "G3hA0M243gNW"
      },
      "source": [
        ""
      ],
      "execution_count": null,
      "outputs": []
    }
  ]
}