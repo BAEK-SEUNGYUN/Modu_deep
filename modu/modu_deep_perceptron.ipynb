{
  "nbformat": 4,
  "nbformat_minor": 0,
  "metadata": {
    "colab": {
      "name": "modu_deep_perceptron.ipynb",
      "provenance": [],
      "collapsed_sections": [],
      "authorship_tag": "ABX9TyNFlVESwtRwJmttrgneM3zu",
      "include_colab_link": true
    },
    "kernelspec": {
      "name": "python3",
      "display_name": "Python 3"
    },
    "language_info": {
      "name": "python"
    }
  },
  "cells": [
    {
      "cell_type": "markdown",
      "metadata": {
        "id": "view-in-github",
        "colab_type": "text"
      },
      "source": [
        "<a href=\"https://colab.research.google.com/github/BAEK-SEUNGYUN/modu_deep/blob/main/modu_deep_perceptron.ipynb\" target=\"_parent\"><img src=\"https://colab.research.google.com/assets/colab-badge.svg\" alt=\"Open In Colab\"/></a>"
      ]
    },
    {
      "cell_type": "markdown",
      "metadata": {
        "id": "2FCnFMvxVUnT"
      },
      "source": [
        "# 퍼셉트론\n",
        "\n",
        "인간의 뇌는 1000억개의 뉴런으로 이루어져 있다. 뉴런과 뉴런 사이에는 시냅스라는 연결 부위가 있는데 신경 말단에서 자극을 받으면 시냅스에서 화학 물질이 나와 전위 변화를 일으킨다.\n",
        "\n",
        "전위가 임계 값을 넘으면 다음 뉴런으로 신호를 전달하고, 임계 값에 미치지 못하면 아무것도 하지 않는다 -> 로지스틱 회귀와 많이 닮아있다.\n",
        "\n",
        "입력 값을 놓고 활성화 함수에 의해 일정한 수준을 넘으면 참, 그렇지 않으면 거짓\n",
        "\n",
        "뉴런과 비슷한 매커니즘인것을 시작으로 연구를 한 것이 인공신경망 연구이다.\n",
        "\n",
        "신경망을 이루는 가장 중요한 기본 단위는 **퍼셉트론** 이다. 퍼셉트론은 입력 값과 활성화 함수를 사용해 출력 값을 다음으로 넘기는 가장 작은 신경망 단위이다.\n"
      ]
    },
    {
      "cell_type": "markdown",
      "metadata": {
        "id": "DLFK7nqLsPVx"
      },
      "source": [
        "## 가중치, 가중합, 바이어스, 활성화 함수\n",
        "\n",
        "y = ax + b ( a 는 기울기,  b 는 절편)   이걸 퍼셉트론의 개념에 맞춰서 표현하면 ->\n",
        "\n",
        "y = wx + b ( w 는 **가중치**, b 는 **바이어스**)\n",
        "\n",
        "**가중합** : 입력값(x)와 가중치(w)의 곱을 모두 더한 다음 거기에 바이어스(b)를 더한 값\n",
        "\n",
        "가중합의 결과를 놓고 1또는 0을 출력해서 다음으로 보내는데 여기서 0과 1을 판단하는 활성화 함수가 있다. 시그모이드 함수가 대표적인 활성화 함수"
      ]
    },
    {
      "cell_type": "markdown",
      "metadata": {
        "id": "X_GyVofD3iBL"
      },
      "source": [
        "# 다층 퍼셉트론\n",
        "\n",
        "퍼셉트론으로는 XOR 문제를 해결할 수 없었는데 다층 퍼셉트론으로 이를 해셜 할 수 있었다.\n",
        "\n",
        "평범한 좌표 평면에서는 XOR을 해결 할 수 없었고 해결하기 위해서는 2개의 퍼셉트론을 한번에 계산할 수 있어야 했다.\n",
        "\n",
        "이를 가능하게 하려면 **은닉층**을 만들어야 한다.\n",
        "\n",
        "입력층과 출력층 사이에 숨어있는 은닉층을 만든다.\n",
        "\n"
      ]
    },
    {
      "cell_type": "code",
      "metadata": {
        "id": "5kRRysNMxb3x"
      },
      "source": [
        "# 코딩으로 XOR 문제 해셜하기\n",
        "\n",
        "import numpy as np\n",
        "\n",
        "w11 = np.array([-2,-2])\n",
        "w12 = np.array([2,2])\n",
        "w2 = np.array([1,1])\n",
        "\n",
        "b1 = 3\n",
        "b2 = -1\n",
        "b3 = -1"
      ],
      "execution_count": 1,
      "outputs": []
    },
    {
      "cell_type": "code",
      "metadata": {
        "id": "_hXCq4Pj9RDu"
      },
      "source": [
        "# 퍼셉트론 함수, 0과 1 중에서 값을 출력하게 설정\n",
        "def MLP(x,w,b):\n",
        "  y = np.sum(w * x) + b\n",
        "  if y <= 0:\n",
        "    return 0\n",
        "  else:\n",
        "    return 1"
      ],
      "execution_count": 3,
      "outputs": []
    },
    {
      "cell_type": "code",
      "metadata": {
        "id": "tw8T9Xeu9rzB"
      },
      "source": [
        "# NAND 게이트\n",
        "def NAND(x1, x2):\n",
        "  return MLP(np.array([x1,x2]), w11, b1)\n",
        "\n",
        "# OR 게이트\n",
        "def OR(x1, x2):\n",
        "  return MLP(np.array([x1,x2]), w12, b2)\n",
        "\n",
        "# AND 게이트\n",
        "def AND(x1, x2):\n",
        "  return MLP(np.array([x1,x2]), w2, b3)\n",
        "\n",
        "# XOR 게이트\n",
        "def XOR(x1,x2):\n",
        "  return AND(NAND(x1,x2), OR(x1,x2))"
      ],
      "execution_count": 7,
      "outputs": []
    },
    {
      "cell_type": "code",
      "metadata": {
        "colab": {
          "base_uri": "https://localhost:8080/"
        },
        "id": "9eD2Kghc-D4Q",
        "outputId": "ab6cf467-48f2-47ee-abc0-7d92b4654586"
      },
      "source": [
        "if __name__ == '__main__':\n",
        "  for x in[(0,0),(1,0),(0,1),(1,1)]:\n",
        "    y = XOR(x[0], x[1])\n",
        "    print(\"입력 값 : \"+ str(x)+ \" 출력 값 : \" + str(y))"
      ],
      "execution_count": 8,
      "outputs": [
        {
          "output_type": "stream",
          "text": [
            "입력 값 : (0, 0) 출력 값 : 0\n",
            "입력 값 : (1, 0) 출력 값 : 1\n",
            "입력 값 : (0, 1) 출력 값 : 1\n",
            "입력 값 : (1, 1) 출력 값 : 0\n"
          ],
          "name": "stdout"
        }
      ]
    },
    {
      "cell_type": "code",
      "metadata": {
        "id": "p_if1j6J_BWM"
      },
      "source": [
        ""
      ],
      "execution_count": null,
      "outputs": []
    }
  ]
}